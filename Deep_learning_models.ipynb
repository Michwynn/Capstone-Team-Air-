{
 "cells": [
  {
   "cell_type": "markdown",
   "id": "6feceb91",
   "metadata": {},
   "source": [
    "## 1. Deep learning model with GloVe word embeddings to represent the amenities"
   ]
  },
  {
   "cell_type": "code",
   "execution_count": 1,
   "id": "a9eb9fd0",
   "metadata": {},
   "outputs": [],
   "source": [
    "### 1. Import all the required libraries\n",
    "import pandas as pd\n",
    "import numpy as np\n",
    "import re\n",
    "import tensorflow as tf\n",
    "from sklearn.preprocessing import StandardScaler\n",
    "from tensorflow.keras.preprocessing.text import Tokenizer\n",
    "from tensorflow.keras.models import Sequential\n",
    "from tensorflow.keras.layers import Dense, Dropout\n",
    "from tensorflow.keras.callbacks import EarlyStopping\n",
    "from tensorflow.keras.callbacks import ModelCheckpoint\n",
    "from tensorflow.keras.models import load_model\n",
    "from tensorflow.keras.callbacks import EarlyStopping\n",
    "import matplotlib.pyplot as plt\n",
    "%matplotlib inline"
   ]
  },
  {
   "cell_type": "code",
   "execution_count": 2,
   "id": "dce78cf4",
   "metadata": {},
   "outputs": [],
   "source": [
    "#### Read the cleaned data created by Michael\n",
    "cleaned_data = pd.read_csv('./assets/cleaned_assets/df_cleaned.csv')"
   ]
  },
  {
   "cell_type": "code",
   "execution_count": 3,
   "id": "6effce5e",
   "metadata": {},
   "outputs": [],
   "source": [
    "#### Split the cleaned data into Train, Val, Test. Splitting data before proceeding will help avoid target leakage\n",
    "\n",
    "#### 2. Split the data into Train-Val-Test.\n",
    "def get_train_val_test(df, fractions, RANDOM_SEED):\n",
    "    # Get the required input and target variables from dataframe and drop NA rows:\n",
    "    df = df.dropna()\n",
    "    # shuffling the data:\n",
    "    df = df.sample(frac = 1, random_state = RANDOM_SEED)\n",
    "    # split into training, validation and testing sets\n",
    "    train_df, val_df, test_df = np.array_split(df, (fractions[:-1].cumsum() * len(df)).astype(int))\n",
    "    if len(train_df) + len(val_df) + len(test_df) != len(df):\n",
    "        print(\"Check the splitting method!\")\n",
    "    else:\n",
    "        return train_df, val_df, test_df\n",
    "\n",
    "RANDOM_SEED = 44\n",
    "fractions = np.array([0.6, 0.2, 0.2])\n",
    "train_df, val_df, test_df = get_train_val_test(cleaned_data, fractions, RANDOM_SEED)"
   ]
  },
  {
   "cell_type": "code",
   "execution_count": 4,
   "id": "a5622e7a",
   "metadata": {},
   "outputs": [
    {
     "name": "stdout",
     "output_type": "stream",
     "text": [
      "training size =  43147\n",
      "validation size =  14382\n",
      "test size =  14383\n"
     ]
    }
   ],
   "source": [
    "print('training size = ',len(train_df))\n",
    "print('validation size = ', len(val_df))\n",
    "print('test size = ', len(test_df))"
   ]
  },
  {
   "cell_type": "code",
   "execution_count": 5,
   "id": "6ac2e38d",
   "metadata": {},
   "outputs": [],
   "source": [
    "def amenities_clean(string1):\n",
    "    str2 = (re.sub(r'[\\[\\]\"0-9\\\\u]', '',string1)).strip().lower()\n",
    "    \n",
    "    return str2"
   ]
  },
  {
   "cell_type": "code",
   "execution_count": 6,
   "id": "e948d123",
   "metadata": {},
   "outputs": [],
   "source": [
    "#### clean the amenities column to remove '[',']' and double quotes and covert to lower case\n",
    "\n",
    "train_df['amenities1'] = train_df['amenities'].apply(amenities_clean)\n",
    "val_df['amenities1'] = val_df['amenities'].apply(amenities_clean)\n",
    "test_df['amenities1'] = test_df['amenities'].apply(amenities_clean)"
   ]
  },
  {
   "cell_type": "code",
   "execution_count": 7,
   "id": "a5086ed8",
   "metadata": {},
   "outputs": [],
   "source": [
    "#pip install wget"
   ]
  },
  {
   "cell_type": "code",
   "execution_count": 8,
   "id": "ca644d37",
   "metadata": {},
   "outputs": [],
   "source": [
    "import wget"
   ]
  },
  {
   "cell_type": "code",
   "execution_count": 9,
   "id": "998d6c2b",
   "metadata": {},
   "outputs": [],
   "source": [
    "##########################################################################################################\n",
    "####### This code needs to be run only once to download the pre-trained GloVe word embeddings#############\n",
    "##########################################################################################################\n",
    "#wget.download('http://nlp.stanford.edu/data/glove.6B.zip')"
   ]
  },
  {
   "cell_type": "code",
   "execution_count": 10,
   "id": "a41f62dc",
   "metadata": {},
   "outputs": [],
   "source": [
    "import zipfile\n",
    "with zipfile.ZipFile(\"glove.6B.zip\",\"r\") as zip_ref:\n",
    "    zip_ref.extractall()\n"
   ]
  },
  {
   "cell_type": "code",
   "execution_count": 11,
   "id": "b344ac7a",
   "metadata": {},
   "outputs": [
    {
     "name": "stdout",
     "output_type": "stream",
     "text": [
      "Found 400000 word vectors.\n"
     ]
    }
   ],
   "source": [
    "## The archive contains 50, 100, 200 and 300 dimensional vectors. We will use the 50 dimensional vector\n",
    "embeddings_index = {}\n",
    "f = open('glove.6B.50d.txt', encoding = 'utf8')\n",
    "for line in f:\n",
    "    values = line.split()\n",
    "    word = values[0]\n",
    "    coefs = np.asarray(values[1:], dtype='float32')\n",
    "    embeddings_index[word] = coefs\n",
    "f.close()\n",
    "\n",
    "print('Found %s word vectors.' % len(embeddings_index))"
   ]
  },
  {
   "cell_type": "code",
   "execution_count": 12,
   "id": "d6258f2f",
   "metadata": {},
   "outputs": [],
   "source": [
    "### Computing the average value of the embedding vector. Will come useful during imputations for words which are from outside the vocabulary\n",
    "avg_embedding_vector = sum(embeddings_index.values())/len(embeddings_index)  "
   ]
  },
  {
   "cell_type": "code",
   "execution_count": 13,
   "id": "3f922ac7",
   "metadata": {},
   "outputs": [],
   "source": [
    "#### Tokenize the comments of the train data to create the Vocabulary. \n",
    "#### Please Note that tokenizer is fit only on the train_df. Word_index is a dictionary with each word of our vocabulary as the key\n",
    "#### We cannot define the vocabulary using Val and Test data as it would lead to target leakage\n",
    "tokenizer = Tokenizer(oov_token = '<OOV>') ### add a out of vocabulary token\n",
    "tokenizer.fit_on_texts(train_df['amenities1'])\n",
    "word_index = tokenizer.word_index\n"
   ]
  },
  {
   "cell_type": "code",
   "execution_count": 14,
   "id": "d9200665",
   "metadata": {},
   "outputs": [],
   "source": [
    "### Lets check how many words in our vocabulary do not have a word embedding vector \n",
    "no_embedding_words = []\n",
    "for word, i in word_index.items():\n",
    "    try:\n",
    "        embedding_vector = embeddings_index[word]\n",
    "    except:\n",
    "        no_embedding_words.append(word)"
   ]
  },
  {
   "cell_type": "code",
   "execution_count": 15,
   "id": "0394fe88",
   "metadata": {},
   "outputs": [
    {
     "name": "stdout",
     "output_type": "stream",
     "text": [
      "Total words in our training data vocabulary are 1590\n",
      "Words not present in our pretrained embedding matrix are 393\n"
     ]
    }
   ],
   "source": [
    "print('Total words in our training data vocabulary are {}'.format(len(word_index)))\n",
    "print('Words not present in our pretrained embedding matrix are {}'.format(len(no_embedding_words)))"
   ]
  },
  {
   "cell_type": "code",
   "execution_count": 16,
   "id": "9a151e54",
   "metadata": {},
   "outputs": [],
   "source": [
    "### An embedding matrix consisting of the 50-D embedding vector for each word in our training dataset \n",
    "### for words which don't have the embedding vector, we impute with the avg embedding vector\n",
    "embedding_matrix = np.zeros((len(word_index)+1,50))  ##Nishant: Update with Dimensions\n",
    "for word, i in word_index.items():\n",
    "    try:\n",
    "        embedding_vector = embeddings_index[word]\n",
    "    except:\n",
    "        embedding_vector = avg_embedding_vector\n",
    "    embedding_matrix[i] = embedding_vector"
   ]
  },
  {
   "cell_type": "code",
   "execution_count": 17,
   "id": "a1464724",
   "metadata": {},
   "outputs": [],
   "source": [
    "#### This is the tricky part!! \n",
    "#### Each listing has a varied number of amenities (e.g. \"Dryer\", \"TV with standard cable\", \"Long term stays allowed\", \"Kitchen\", \"Wifi\", \"Washer\", \"Heating\" ).\n",
    "#### Note that some of the amenities are words and some are phrases. Now GloVe vectorizes one word at a time\n",
    "#### Our strategy is to find average vector for each amenity and then average across all amenities \n",
    "\n",
    "def avg_embedding(all_amenities):\n",
    "    list_amenities = [i.strip() for i in all_amenities.split(\",\")] ###get the list of amenities\n",
    "    list_seq = tokenizer.texts_to_sequences(list_amenities)\n",
    "    arr_all_amenity = np.zeros(50)\n",
    "    for j in list_seq:\n",
    "        arr1 = np.zeros(50)\n",
    "        for k in j:\n",
    "            arr1 = arr1+embedding_matrix[k]\n",
    "        avg_arr1 = arr1/max(1,len(j)) #### avg embedding vector for each amenity\n",
    "        arr_all_amenity = arr_all_amenity+avg_arr1\n",
    "    arr_final = arr_all_amenity/max(1,len(list_seq))\n",
    "    return arr_final\n",
    "\n"
   ]
  },
  {
   "cell_type": "code",
   "execution_count": 18,
   "id": "09325c19",
   "metadata": {},
   "outputs": [],
   "source": [
    "#### Identify the columns to be standardized.\n",
    "cols = ['total_crimes','Population per square kilometre','Property price','accommodates','minimum_nights','maximum_nights','number_of_reviews','amenities_count',\\\n",
    "        'closest_station_dist','within_1k_station','closest_POI_dist','within_5k_POI','dist_from_center']\n",
    "\n",
    "scaler = StandardScaler()\n",
    "train_df[cols] = scaler.fit_transform(train_df[cols])\n",
    "val_df[cols] = scaler.transform(val_df[cols])\n",
    "test_df[cols] = scaler.transform(test_df[cols])"
   ]
  },
  {
   "cell_type": "code",
   "execution_count": 19,
   "id": "c7f018b1",
   "metadata": {},
   "outputs": [],
   "source": [
    "#### Create dummy variables (one-hot encoding) for Borough, room_type, property_type. Lets not create dummies\n",
    "train_df1 = pd.get_dummies(train_df, columns = ['Borough','room_type','property_type'])\n",
    "val_df1 = pd.get_dummies(val_df, columns = ['Borough','room_type','property_type'])\n",
    "test_df1 = pd.get_dummies(test_df, columns = ['Borough','room_type','property_type'])"
   ]
  },
  {
   "cell_type": "code",
   "execution_count": 20,
   "id": "ead9cd3a",
   "metadata": {},
   "outputs": [],
   "source": [
    "train_df1, val_df1 = train_df1.align(val_df1, join='left', axis=1, fill_value = 0)\n",
    "train_df1, test_df1 = train_df1.align(test_df1, join='left', axis=1, fill_value = 0)"
   ]
  },
  {
   "cell_type": "code",
   "execution_count": 21,
   "id": "ca283665",
   "metadata": {},
   "outputs": [
    {
     "data": {
      "text/plain": [
       "0.01      20.00\n",
       "0.02      24.00\n",
       "0.95     495.00\n",
       "0.98    1047.24\n",
       "0.99    1570.00\n",
       "Name: price, dtype: float64"
      ]
     },
     "execution_count": 21,
     "metadata": {},
     "output_type": "execute_result"
    }
   ],
   "source": [
    "#### look at the quantile for price\n",
    "train_df.price.quantile([0.01,0.02,0.95,0.98,0.99])"
   ]
  },
  {
   "cell_type": "code",
   "execution_count": 22,
   "id": "8b2fdf02",
   "metadata": {},
   "outputs": [
    {
     "name": "stdout",
     "output_type": "stream",
     "text": [
      "   image_id  interior    entire       avg  normalized_avg\n",
      "0     13913  5.221664  5.358303  5.289983        6.426101\n",
      "1     15400  5.099636  5.424931  5.262284        6.300351\n",
      "2    172811  4.972842  3.823302  4.398072        2.377051\n",
      "3    173082  5.765924  5.875356  5.820640        8.835144\n",
      "4     42010  5.487355  5.249705  5.368530        6.782684\n"
     ]
    }
   ],
   "source": [
    "#### Get the variables from the CNN model by Elias\n",
    "attract_data = pd.read_csv('./assets/cleaned_assets/id_score.csv')\n",
    "\n",
    "print(attract_data.head())"
   ]
  },
  {
   "cell_type": "code",
   "execution_count": 23,
   "id": "b10aa88a",
   "metadata": {},
   "outputs": [],
   "source": [
    "### merge the CNN model data to the train_df1, val_df1, test_df1\n",
    "train_df2 = pd.merge(left = train_df1, right = attract_data, left_on = 'id', right_on = 'image_id', how = 'inner')\n",
    "\n",
    "val_df2 = pd.merge(left = val_df1, right = attract_data, left_on = 'id', right_on = 'image_id', how = 'inner')\n",
    "\n",
    "test_df2 = pd.merge(left = test_df1, right = attract_data, left_on = 'id', right_on = 'image_id', how = 'inner')"
   ]
  },
  {
   "cell_type": "code",
   "execution_count": 24,
   "id": "979e7515",
   "metadata": {},
   "outputs": [
    {
     "name": "stdout",
     "output_type": "stream",
     "text": [
      "New train data (30725, 158)\n",
      "New val data (10178, 158)\n",
      "New test data (10172, 158)\n"
     ]
    }
   ],
   "source": [
    "####updated counts\n",
    "\n",
    "print('New train data', train_df2.shape)\n",
    "print('New val data', val_df2.shape)\n",
    "print('New test data', test_df2.shape)"
   ]
  },
  {
   "cell_type": "markdown",
   "id": "f983d667",
   "metadata": {},
   "source": [
    "#### 1A: Deep leaning model with GloVe embedding + features from the CNN model "
   ]
  },
  {
   "cell_type": "code",
   "execution_count": 25,
   "id": "9b44fa2c",
   "metadata": {},
   "outputs": [],
   "source": [
    "#### Run the model using all features including the ones created by CNN\n",
    "def final_df_with_cnn(input_df):\n",
    "    input_df['price1'] = np.where(input_df.price > 1570, 1570, input_df.price) ###Cap the price to handle extreme values\n",
    "    input_df['price1'] = np.where(input_df.price1 < 20, 20, input_df.price1) ###Floor price to handle extreme values\n",
    "    all_amenities = input_df['amenities1']\n",
    "    other_features = input_df.drop(columns = ['Unnamed: 0', 'Census population', 'id','neighbourhood_cleansed','latitude', 'longitude','host_since',\\\n",
    "              'amenities','amenities1','price','price1','image_id','avg',\\\n",
    "               'host_identity_verified','host_is_superhost','host_has_profile_pic']) ##keeping normalized avg\n",
    "\n",
    "    dv1 = np.log(input_df['price1'])\n",
    "\n",
    "    idv1 = other_features.to_numpy()\n",
    "    dv_f = dv1.to_numpy()\n",
    "    #### Now lets convert the amenities to BERT embeddings\n",
    "    amenities_array = np.zeros((len(input_df),50))\n",
    "    cnt = 0\n",
    "    for i in all_amenities:\n",
    "        amenities_array[cnt] = avg_embedding(i)\n",
    "        cnt = cnt +1\n",
    "    x_final = np.concatenate((idv1,amenities_array), axis = 1)\n",
    "    return x_final, dv_f"
   ]
  },
  {
   "cell_type": "code",
   "execution_count": 26,
   "id": "02da56dd",
   "metadata": {},
   "outputs": [],
   "source": [
    "X_train, y_train = final_df_with_cnn(train_df2)\n",
    "X_val, y_val = final_df_with_cnn(val_df2)\n",
    "X_test, y_test = final_df_with_cnn(test_df2)"
   ]
  },
  {
   "cell_type": "code",
   "execution_count": 27,
   "id": "bd9a5803",
   "metadata": {},
   "outputs": [
    {
     "data": {
      "text/plain": [
       "(10172, 193)"
      ]
     },
     "execution_count": 27,
     "metadata": {},
     "output_type": "execute_result"
    }
   ],
   "source": [
    "X_test.shape"
   ]
  },
  {
   "cell_type": "code",
   "execution_count": 28,
   "id": "79759b5a",
   "metadata": {},
   "outputs": [],
   "source": [
    "model = Sequential([\n",
    "    Dense(256, activation = 'relu', input_shape = (X_train.shape[1],), kernel_regularizer = tf.keras.regularizers.L2(0.001)),\n",
    "    Dense(128, activation = 'relu', kernel_regularizer = tf.keras.regularizers.L2(0.001)),\n",
    "    Dense(64, activation = 'relu', kernel_regularizer = tf.keras.regularizers.L2(0.001)),\n",
    "    Dense(32, activation = 'relu', kernel_regularizer = tf.keras.regularizers.L2(0.001)),\n",
    "    Dense(16, activation = 'relu', kernel_regularizer = tf.keras.regularizers.L2(0.001)),\n",
    "    Dense(1, activation = 'linear', kernel_regularizer = tf.keras.regularizers.L2(0.001))\n",
    "])"
   ]
  },
  {
   "cell_type": "code",
   "execution_count": 29,
   "id": "22ad8d42",
   "metadata": {},
   "outputs": [],
   "source": [
    "model.compile(optimizer = 'adam',\n",
    "            loss = 'mse',\n",
    "             metrics = [tf.keras.metrics.RootMeanSquaredError()])"
   ]
  },
  {
   "cell_type": "code",
   "execution_count": 30,
   "id": "7caee440",
   "metadata": {},
   "outputs": [
    {
     "name": "stdout",
     "output_type": "stream",
     "text": [
      "Epoch 1/50\n",
      "481/481 [==============================] - 2s 2ms/step - loss: 0.8307 - root_mean_squared_error: 0.7524 - val_loss: 0.5113 - val_root_mean_squared_error: 0.5665\n",
      "Epoch 2/50\n",
      "481/481 [==============================] - 1s 2ms/step - loss: 0.4759 - root_mean_squared_error: 0.5586 - val_loss: 0.4464 - val_root_mean_squared_error: 0.5507\n",
      "Epoch 3/50\n",
      "481/481 [==============================] - 1s 2ms/step - loss: 0.4278 - root_mean_squared_error: 0.5468 - val_loss: 0.4085 - val_root_mean_squared_error: 0.5409\n",
      "Epoch 4/50\n",
      "481/481 [==============================] - 1s 2ms/step - loss: 0.3890 - root_mean_squared_error: 0.5312 - val_loss: 0.3768 - val_root_mean_squared_error: 0.5276\n",
      "Epoch 5/50\n",
      "481/481 [==============================] - 1s 2ms/step - loss: 0.3645 - root_mean_squared_error: 0.5215 - val_loss: 0.3546 - val_root_mean_squared_error: 0.5184\n",
      "Epoch 6/50\n",
      "481/481 [==============================] - 1s 2ms/step - loss: 0.3351 - root_mean_squared_error: 0.5041 - val_loss: 0.3316 - val_root_mean_squared_error: 0.5054\n",
      "Epoch 7/50\n",
      "481/481 [==============================] - 1s 2ms/step - loss: 0.3251 - root_mean_squared_error: 0.5037 - val_loss: 0.3279 - val_root_mean_squared_error: 0.5100\n",
      "Epoch 8/50\n",
      "481/481 [==============================] - 1s 2ms/step - loss: 0.3151 - root_mean_squared_error: 0.5011 - val_loss: 0.3031 - val_root_mean_squared_error: 0.4924\n",
      "Epoch 9/50\n",
      "481/481 [==============================] - 1s 2ms/step - loss: 0.3049 - root_mean_squared_error: 0.4970 - val_loss: 0.3066 - val_root_mean_squared_error: 0.5008\n",
      "Epoch 10/50\n",
      "481/481 [==============================] - 1s 2ms/step - loss: 0.2939 - root_mean_squared_error: 0.4905 - val_loss: 0.2907 - val_root_mean_squared_error: 0.4896\n",
      "Epoch 11/50\n",
      "481/481 [==============================] - 1s 2ms/step - loss: 0.2895 - root_mean_squared_error: 0.4902 - val_loss: 0.2987 - val_root_mean_squared_error: 0.5012\n",
      "Epoch 12/50\n",
      "481/481 [==============================] - 1s 2ms/step - loss: 0.2818 - root_mean_squared_error: 0.4856 - val_loss: 0.2952 - val_root_mean_squared_error: 0.5003\n",
      "Epoch 13/50\n",
      "481/481 [==============================] - 1s 2ms/step - loss: 0.2815 - root_mean_squared_error: 0.4878 - val_loss: 0.2838 - val_root_mean_squared_error: 0.4912\n",
      "Epoch 14/50\n",
      "481/481 [==============================] - 1s 2ms/step - loss: 0.2762 - root_mean_squared_error: 0.4847 - val_loss: 0.2937 - val_root_mean_squared_error: 0.5032\n",
      "Epoch 15/50\n",
      "481/481 [==============================] - 1s 2ms/step - loss: 0.2706 - root_mean_squared_error: 0.4805 - val_loss: 0.2722 - val_root_mean_squared_error: 0.4830\n",
      "Epoch 16/50\n",
      "481/481 [==============================] - 1s 2ms/step - loss: 0.2679 - root_mean_squared_error: 0.4794 - val_loss: 0.2747 - val_root_mean_squared_error: 0.4873\n",
      "Epoch 17/50\n",
      "481/481 [==============================] - 1s 2ms/step - loss: 0.2636 - root_mean_squared_error: 0.4765 - val_loss: 0.2721 - val_root_mean_squared_error: 0.4861\n",
      "Epoch 18/50\n",
      "481/481 [==============================] - 1s 2ms/step - loss: 0.2644 - root_mean_squared_error: 0.4788 - val_loss: 0.2686 - val_root_mean_squared_error: 0.4835\n",
      "Epoch 19/50\n",
      "481/481 [==============================] - 1s 2ms/step - loss: 0.2634 - root_mean_squared_error: 0.4786 - val_loss: 0.2643 - val_root_mean_squared_error: 0.4801\n",
      "Epoch 20/50\n",
      "481/481 [==============================] - 1s 2ms/step - loss: 0.2589 - root_mean_squared_error: 0.4749 - val_loss: 0.2939 - val_root_mean_squared_error: 0.5110\n",
      "Epoch 21/50\n",
      "481/481 [==============================] - 1s 2ms/step - loss: 0.2560 - root_mean_squared_error: 0.4725 - val_loss: 0.2835 - val_root_mean_squared_error: 0.5011\n",
      "Epoch 22/50\n",
      "481/481 [==============================] - 1s 2ms/step - loss: 0.2577 - root_mean_squared_error: 0.4749 - val_loss: 0.2612 - val_root_mean_squared_error: 0.4790\n",
      "Epoch 23/50\n",
      "481/481 [==============================] - 1s 2ms/step - loss: 0.2578 - root_mean_squared_error: 0.4755 - val_loss: 0.2763 - val_root_mean_squared_error: 0.4951\n",
      "Epoch 24/50\n",
      "481/481 [==============================] - 1s 2ms/step - loss: 0.2549 - root_mean_squared_error: 0.4730 - val_loss: 0.2700 - val_root_mean_squared_error: 0.4889\n",
      "Epoch 25/50\n",
      "481/481 [==============================] - 1s 2ms/step - loss: 0.2541 - root_mean_squared_error: 0.4725 - val_loss: 0.3430 - val_root_mean_squared_error: 0.5591\n",
      "Epoch 26/50\n",
      "481/481 [==============================] - 1s 2ms/step - loss: 0.2527 - root_mean_squared_error: 0.4713 - val_loss: 0.2756 - val_root_mean_squared_error: 0.4952\n",
      "Epoch 27/50\n",
      "481/481 [==============================] - 1s 2ms/step - loss: 0.2509 - root_mean_squared_error: 0.4698 - val_loss: 0.2604 - val_root_mean_squared_error: 0.4798\n",
      "Epoch 28/50\n",
      "481/481 [==============================] - 1s 2ms/step - loss: 0.2526 - root_mean_squared_error: 0.4717 - val_loss: 0.2628 - val_root_mean_squared_error: 0.4827\n",
      "Epoch 29/50\n",
      "481/481 [==============================] - 1s 2ms/step - loss: 0.2502 - root_mean_squared_error: 0.4697 - val_loss: 0.2585 - val_root_mean_squared_error: 0.4784\n",
      "Epoch 30/50\n",
      "481/481 [==============================] - 1s 2ms/step - loss: 0.2506 - root_mean_squared_error: 0.4702 - val_loss: 0.2637 - val_root_mean_squared_error: 0.4842\n",
      "Epoch 31/50\n",
      "481/481 [==============================] - 1s 2ms/step - loss: 0.2515 - root_mean_squared_error: 0.4713 - val_loss: 0.2636 - val_root_mean_squared_error: 0.4840\n",
      "Epoch 32/50\n",
      "481/481 [==============================] - 1s 2ms/step - loss: 0.2479 - root_mean_squared_error: 0.4676 - val_loss: 0.2759 - val_root_mean_squared_error: 0.4969\n",
      "Epoch 33/50\n",
      "481/481 [==============================] - 1s 2ms/step - loss: 0.2505 - root_mean_squared_error: 0.4707 - val_loss: 0.2791 - val_root_mean_squared_error: 0.5002\n",
      "Epoch 34/50\n",
      "481/481 [==============================] - 1s 2ms/step - loss: 0.2484 - root_mean_squared_error: 0.4685 - val_loss: 0.2759 - val_root_mean_squared_error: 0.4971\n",
      "Epoch 35/50\n",
      "481/481 [==============================] - 1s 2ms/step - loss: 0.2475 - root_mean_squared_error: 0.4676 - val_loss: 0.2716 - val_root_mean_squared_error: 0.4928\n",
      "Epoch 36/50\n",
      "481/481 [==============================] - 1s 2ms/step - loss: 0.2490 - root_mean_squared_error: 0.4692 - val_loss: 0.2900 - val_root_mean_squared_error: 0.5111\n",
      "Epoch 37/50\n",
      "481/481 [==============================] - 1s 2ms/step - loss: 0.2462 - root_mean_squared_error: 0.4665 - val_loss: 0.2942 - val_root_mean_squared_error: 0.5158\n",
      "Epoch 38/50\n",
      "481/481 [==============================] - 1s 2ms/step - loss: 0.2456 - root_mean_squared_error: 0.4660 - val_loss: 0.2572 - val_root_mean_squared_error: 0.4787\n",
      "Epoch 39/50\n",
      "481/481 [==============================] - 1s 2ms/step - loss: 0.2455 - root_mean_squared_error: 0.4662 - val_loss: 0.2632 - val_root_mean_squared_error: 0.4848\n",
      "Epoch 40/50\n",
      "481/481 [==============================] - 1s 2ms/step - loss: 0.2450 - root_mean_squared_error: 0.4657 - val_loss: 0.2626 - val_root_mean_squared_error: 0.4842\n",
      "Epoch 41/50\n",
      "481/481 [==============================] - 1s 2ms/step - loss: 0.2469 - root_mean_squared_error: 0.4675 - val_loss: 0.2551 - val_root_mean_squared_error: 0.4765\n",
      "Epoch 42/50\n",
      "481/481 [==============================] - 1s 2ms/step - loss: 0.2538 - root_mean_squared_error: 0.4749 - val_loss: 0.2568 - val_root_mean_squared_error: 0.4780\n",
      "Epoch 43/50\n",
      "481/481 [==============================] - 1s 2ms/step - loss: 0.2449 - root_mean_squared_error: 0.4656 - val_loss: 0.2528 - val_root_mean_squared_error: 0.4740\n",
      "Epoch 44/50\n",
      "481/481 [==============================] - 1s 2ms/step - loss: 0.2457 - root_mean_squared_error: 0.4665 - val_loss: 0.2619 - val_root_mean_squared_error: 0.4837\n",
      "Epoch 45/50\n",
      "481/481 [==============================] - 1s 2ms/step - loss: 0.2439 - root_mean_squared_error: 0.4645 - val_loss: 0.2554 - val_root_mean_squared_error: 0.4769\n",
      "Epoch 46/50\n",
      "481/481 [==============================] - 1s 2ms/step - loss: 0.2443 - root_mean_squared_error: 0.4652 - val_loss: 0.2595 - val_root_mean_squared_error: 0.4812\n",
      "Epoch 47/50\n",
      "481/481 [==============================] - 1s 2ms/step - loss: 0.2438 - root_mean_squared_error: 0.4647 - val_loss: 0.2588 - val_root_mean_squared_error: 0.4808\n",
      "Epoch 48/50\n",
      "481/481 [==============================] - 1s 2ms/step - loss: 0.2424 - root_mean_squared_error: 0.4634 - val_loss: 0.2753 - val_root_mean_squared_error: 0.4977\n",
      "Epoch 49/50\n",
      "481/481 [==============================] - 1s 2ms/step - loss: 0.2422 - root_mean_squared_error: 0.4633 - val_loss: 0.2678 - val_root_mean_squared_error: 0.4900\n",
      "Epoch 50/50\n",
      "481/481 [==============================] - 1s 2ms/step - loss: 0.2420 - root_mean_squared_error: 0.4630 - val_loss: 0.2567 - val_root_mean_squared_error: 0.4788\n"
     ]
    }
   ],
   "source": [
    "history = model.fit(X_train, y_train, epochs = 50, batch_size = 64, validation_data = (X_val, y_val))"
   ]
  },
  {
   "cell_type": "code",
   "execution_count": 33,
   "id": "daad3abc",
   "metadata": {},
   "outputs": [],
   "source": [
    "### Predicted value\n",
    "\n",
    "y_pred_train = model.predict(X_train)\n",
    "y_pred_val = model.predict(X_val)\n",
    "y_pred_test = model.predict(X_test)"
   ]
  },
  {
   "cell_type": "code",
   "execution_count": 32,
   "id": "34bef145",
   "metadata": {},
   "outputs": [],
   "source": [
    "from sklearn.metrics import r2_score"
   ]
  },
  {
   "cell_type": "code",
   "execution_count": 34,
   "id": "1613ddfb",
   "metadata": {},
   "outputs": [
    {
     "name": "stdout",
     "output_type": "stream",
     "text": [
      "The train R-squared is 0.715893\n",
      "The val R-squared is 0.682371\n",
      "The test R-squared is 0.691432\n"
     ]
    }
   ],
   "source": [
    "print('The train R-squared is', round(r2_score(y_train, y_pred_train),6))\n",
    "print('The val R-squared is', round(r2_score(y_val, y_pred_val),6))\n",
    "print('The test R-squared is', round(r2_score(y_test, y_pred_test),6))\n",
    "\n"
   ]
  },
  {
   "cell_type": "code",
   "execution_count": 35,
   "id": "20016b5f",
   "metadata": {},
   "outputs": [
    {
     "name": "stdout",
     "output_type": "stream",
     "text": [
      "318/318 [==============================] - 0s 1ms/step - loss: 0.2442 - root_mean_squared_error: 0.4655\n",
      "loss on test is: 0.24419081211090088\n",
      "rmse on test is: 0.4655216336250305\n"
     ]
    }
   ],
   "source": [
    "#### Checking the loss and rmse on the Test data\n",
    "loss, rmse = model.evaluate(X_test, y_test)\n",
    "\n",
    "print('loss on test is:', loss)\n",
    "print('rmse on test is:', rmse)"
   ]
  },
  {
   "cell_type": "code",
   "execution_count": 36,
   "id": "ddb4dced",
   "metadata": {},
   "outputs": [
    {
     "data": {
      "text/html": [
       "<div>\n",
       "<style scoped>\n",
       "    .dataframe tbody tr th:only-of-type {\n",
       "        vertical-align: middle;\n",
       "    }\n",
       "\n",
       "    .dataframe tbody tr th {\n",
       "        vertical-align: top;\n",
       "    }\n",
       "\n",
       "    .dataframe thead th {\n",
       "        text-align: right;\n",
       "    }\n",
       "</style>\n",
       "<table border=\"1\" class=\"dataframe\">\n",
       "  <thead>\n",
       "    <tr style=\"text-align: right;\">\n",
       "      <th></th>\n",
       "      <th>loss</th>\n",
       "      <th>root_mean_squared_error</th>\n",
       "      <th>val_loss</th>\n",
       "      <th>val_root_mean_squared_error</th>\n",
       "    </tr>\n",
       "  </thead>\n",
       "  <tbody>\n",
       "    <tr>\n",
       "      <th>0</th>\n",
       "      <td>0.830655</td>\n",
       "      <td>0.752445</td>\n",
       "      <td>0.511330</td>\n",
       "      <td>0.566493</td>\n",
       "    </tr>\n",
       "    <tr>\n",
       "      <th>1</th>\n",
       "      <td>0.475860</td>\n",
       "      <td>0.558557</td>\n",
       "      <td>0.446414</td>\n",
       "      <td>0.550726</td>\n",
       "    </tr>\n",
       "    <tr>\n",
       "      <th>2</th>\n",
       "      <td>0.427826</td>\n",
       "      <td>0.546770</td>\n",
       "      <td>0.408540</td>\n",
       "      <td>0.540877</td>\n",
       "    </tr>\n",
       "    <tr>\n",
       "      <th>3</th>\n",
       "      <td>0.388959</td>\n",
       "      <td>0.531166</td>\n",
       "      <td>0.376836</td>\n",
       "      <td>0.527588</td>\n",
       "    </tr>\n",
       "    <tr>\n",
       "      <th>4</th>\n",
       "      <td>0.364492</td>\n",
       "      <td>0.521504</td>\n",
       "      <td>0.354588</td>\n",
       "      <td>0.518356</td>\n",
       "    </tr>\n",
       "  </tbody>\n",
       "</table>\n",
       "</div>"
      ],
      "text/plain": [
       "       loss  root_mean_squared_error  val_loss  val_root_mean_squared_error\n",
       "0  0.830655                 0.752445  0.511330                     0.566493\n",
       "1  0.475860                 0.558557  0.446414                     0.550726\n",
       "2  0.427826                 0.546770  0.408540                     0.540877\n",
       "3  0.388959                 0.531166  0.376836                     0.527588\n",
       "4  0.364492                 0.521504  0.354588                     0.518356"
      ]
     },
     "metadata": {},
     "output_type": "display_data"
    }
   ],
   "source": [
    "df = pd.DataFrame(history.history)\n",
    "display(df.head())"
   ]
  },
  {
   "cell_type": "code",
   "execution_count": 37,
   "id": "ee44fff9",
   "metadata": {},
   "outputs": [
    {
     "data": {
      "text/html": [
       "<div>\n",
       "<style scoped>\n",
       "    .dataframe tbody tr th:only-of-type {\n",
       "        vertical-align: middle;\n",
       "    }\n",
       "\n",
       "    .dataframe tbody tr th {\n",
       "        vertical-align: top;\n",
       "    }\n",
       "\n",
       "    .dataframe thead th {\n",
       "        text-align: right;\n",
       "    }\n",
       "</style>\n",
       "<table border=\"1\" class=\"dataframe\">\n",
       "  <thead>\n",
       "    <tr style=\"text-align: right;\">\n",
       "      <th></th>\n",
       "      <th>loss</th>\n",
       "      <th>root_mean_squared_error</th>\n",
       "      <th>val_loss</th>\n",
       "      <th>val_root_mean_squared_error</th>\n",
       "      <th>epochs</th>\n",
       "    </tr>\n",
       "  </thead>\n",
       "  <tbody>\n",
       "    <tr>\n",
       "      <th>0</th>\n",
       "      <td>0.830655</td>\n",
       "      <td>0.752445</td>\n",
       "      <td>0.511330</td>\n",
       "      <td>0.566493</td>\n",
       "      <td>1</td>\n",
       "    </tr>\n",
       "    <tr>\n",
       "      <th>1</th>\n",
       "      <td>0.475860</td>\n",
       "      <td>0.558557</td>\n",
       "      <td>0.446414</td>\n",
       "      <td>0.550726</td>\n",
       "      <td>2</td>\n",
       "    </tr>\n",
       "    <tr>\n",
       "      <th>2</th>\n",
       "      <td>0.427826</td>\n",
       "      <td>0.546770</td>\n",
       "      <td>0.408540</td>\n",
       "      <td>0.540877</td>\n",
       "      <td>3</td>\n",
       "    </tr>\n",
       "    <tr>\n",
       "      <th>3</th>\n",
       "      <td>0.388959</td>\n",
       "      <td>0.531166</td>\n",
       "      <td>0.376836</td>\n",
       "      <td>0.527588</td>\n",
       "      <td>4</td>\n",
       "    </tr>\n",
       "    <tr>\n",
       "      <th>4</th>\n",
       "      <td>0.364492</td>\n",
       "      <td>0.521504</td>\n",
       "      <td>0.354588</td>\n",
       "      <td>0.518356</td>\n",
       "      <td>5</td>\n",
       "    </tr>\n",
       "  </tbody>\n",
       "</table>\n",
       "</div>"
      ],
      "text/plain": [
       "       loss  root_mean_squared_error  val_loss  val_root_mean_squared_error  \\\n",
       "0  0.830655                 0.752445  0.511330                     0.566493   \n",
       "1  0.475860                 0.558557  0.446414                     0.550726   \n",
       "2  0.427826                 0.546770  0.408540                     0.540877   \n",
       "3  0.388959                 0.531166  0.376836                     0.527588   \n",
       "4  0.364492                 0.521504  0.354588                     0.518356   \n",
       "\n",
       "  epochs  \n",
       "0      1  \n",
       "1      2  \n",
       "2      3  \n",
       "3      4  \n",
       "4      5  "
      ]
     },
     "metadata": {},
     "output_type": "display_data"
    }
   ],
   "source": [
    "df['epochs'] = df.index + 1\n",
    "df['epochs'] = df['epochs'].apply(str)\n",
    "display(df.head())"
   ]
  },
  {
   "cell_type": "code",
   "execution_count": 38,
   "id": "88427007",
   "metadata": {},
   "outputs": [
    {
     "data": {
      "image/png": "[encoded data removed]",
      "text/plain": [
       "<Figure size 2160x720 with 2 Axes>"
      ]
     },
     "metadata": {
      "needs_background": "light"
     },
     "output_type": "display_data"
    }
   ],
   "source": [
    "### Plot the graphs\n",
    "fig, ax = plt.subplots(1,2, figsize = (30,10))\n",
    "ax[0].plot(df['epochs'], df['loss'], color = '#FF5A5F')\n",
    "ax[0].plot(df['epochs'], df['val_loss'], color = '#00A699')\n",
    "ax[0].legend(['train loss', 'validation loss'])\n",
    "ax[0].set(xlabel=\"Epoch number\", ylabel=\"mean squared error\")\n",
    "ax[0].set_title('MSE Vs Epoch')\n",
    "\n",
    "ax[1].plot(df['epochs'],df['root_mean_squared_error'],color = '#FF5A5F')\n",
    "ax[1].plot(df['epochs'], df['val_root_mean_squared_error'],color = '#00A699')\n",
    "ax[1].legend(['train rmse', 'validation rmse'])\n",
    "ax[1].set(xlabel=\"Epoch number\", ylabel=\"Root mean squared error\")\n",
    "ax[1].set_title('RMSE Vs Epoch')\n",
    "\n",
    "fig.suptitle('MSE and RMSE for Train and Validation sample with each epoch', fontsize = 15, fontweight = 'bold', y = 1.05)\n",
    "fig.tight_layout()\n",
    "plt.show()"
   ]
  },
  {
   "cell_type": "markdown",
   "id": "8f802ee3",
   "metadata": {},
   "source": [
    "#### 1B: Deep leaning model with GloVe embedding (Not including features from the CNN model )"
   ]
  },
  {
   "cell_type": "code",
   "execution_count": 39,
   "id": "979fcf90",
   "metadata": {},
   "outputs": [],
   "source": [
    "#### Run the model using all features except the ones created by CNN\n",
    "def final_df_without_cnn(input_df):\n",
    "    input_df['price1'] = np.where(input_df.price > 1570, 1570, input_df.price) ###Cap the price to handle extreme values\n",
    "    input_df['price1'] = np.where(input_df.price1 < 20, 20, input_df.price1) ###Floor the price to handle extreme values\n",
    "    all_amenities = input_df['amenities1']\n",
    "    other_features = input_df.drop(columns = ['Unnamed: 0', 'Census population', 'id','neighbourhood_cleansed','latitude', 'longitude','host_since',\\\n",
    "              'amenities','amenities1','price','price1','image_id','avg',\\\n",
    "               'host_identity_verified','host_is_superhost','host_has_profile_pic', 'normalized_avg', 'interior', 'entire']) ##keeping normalized avg\n",
    "\n",
    "    dv1 = np.log(input_df['price1'])\n",
    "\n",
    "    idv1 = other_features.to_numpy()\n",
    "    dv_f = dv1.to_numpy()\n",
    "    #### Now lets convert the amenities to BERT embeddings\n",
    "    amenities_array = np.zeros((len(input_df),50))\n",
    "    cnt = 0\n",
    "    for i in all_amenities:\n",
    "        amenities_array[cnt] = avg_embedding(i)\n",
    "        cnt = cnt +1\n",
    "    x_final = np.concatenate((idv1,amenities_array), axis = 1)\n",
    "    return x_final, dv_f"
   ]
  },
  {
   "cell_type": "code",
   "execution_count": 40,
   "id": "df231138",
   "metadata": {},
   "outputs": [],
   "source": [
    "X_train, y_train = final_df_without_cnn(train_df2)\n",
    "X_val, y_val = final_df_without_cnn(val_df2)\n",
    "X_test, y_test = final_df_without_cnn(test_df2)"
   ]
  },
  {
   "cell_type": "code",
   "execution_count": 41,
   "id": "b72ef140",
   "metadata": {},
   "outputs": [
    {
     "data": {
      "text/plain": [
       "(10172, 190)"
      ]
     },
     "execution_count": 41,
     "metadata": {},
     "output_type": "execute_result"
    }
   ],
   "source": [
    "X_test.shape"
   ]
  },
  {
   "cell_type": "code",
   "execution_count": 42,
   "id": "a2f4aeb6",
   "metadata": {},
   "outputs": [],
   "source": [
    "model = Sequential([\n",
    "    Dense(256, activation = 'relu', input_shape = (X_train.shape[1],), kernel_regularizer = tf.keras.regularizers.L2(0.001)),\n",
    "    Dense(128, activation = 'relu', kernel_regularizer = tf.keras.regularizers.L2(0.001)),\n",
    "    Dense(64, activation = 'relu', kernel_regularizer = tf.keras.regularizers.L2(0.001)),\n",
    "    Dense(32, activation = 'relu', kernel_regularizer = tf.keras.regularizers.L2(0.001)),\n",
    "    Dense(16, activation = 'relu', kernel_regularizer = tf.keras.regularizers.L2(0.001)),\n",
    "    Dense(1, activation = 'linear', kernel_regularizer = tf.keras.regularizers.L2(0.001))\n",
    "])"
   ]
  },
  {
   "cell_type": "code",
   "execution_count": 43,
   "id": "1662d89f",
   "metadata": {},
   "outputs": [],
   "source": [
    "model.compile(optimizer = 'adam',\n",
    "            loss = 'mse',\n",
    "             metrics = [tf.keras.metrics.RootMeanSquaredError()])"
   ]
  },
  {
   "cell_type": "code",
   "execution_count": 44,
   "id": "cc230829",
   "metadata": {},
   "outputs": [
    {
     "name": "stdout",
     "output_type": "stream",
     "text": [
      "Epoch 1/50\n",
      "481/481 [==============================] - 2s 2ms/step - loss: 1.1765 - root_mean_squared_error: 0.9110 - val_loss: 0.5720 - val_root_mean_squared_error: 0.5578\n",
      "Epoch 2/50\n",
      "481/481 [==============================] - 1s 2ms/step - loss: 0.5334 - root_mean_squared_error: 0.5588 - val_loss: 0.4925 - val_root_mean_squared_error: 0.5511\n",
      "Epoch 3/50\n",
      "481/481 [==============================] - 1s 2ms/step - loss: 0.4564 - root_mean_squared_error: 0.5378 - val_loss: 0.4229 - val_root_mean_squared_error: 0.5237\n",
      "Epoch 4/50\n",
      "481/481 [==============================] - 1s 2ms/step - loss: 0.4123 - root_mean_squared_error: 0.5263 - val_loss: 0.4243 - val_root_mean_squared_error: 0.5487\n",
      "Epoch 5/50\n",
      "481/481 [==============================] - 1s 2ms/step - loss: 0.3775 - root_mean_squared_error: 0.5133 - val_loss: 0.3606 - val_root_mean_squared_error: 0.5052\n",
      "Epoch 6/50\n",
      "481/481 [==============================] - 1s 2ms/step - loss: 0.3561 - root_mean_squared_error: 0.5076 - val_loss: 0.3425 - val_root_mean_squared_error: 0.5008\n",
      "Epoch 7/50\n",
      "481/481 [==============================] - 1s 2ms/step - loss: 0.3372 - root_mean_squared_error: 0.5010 - val_loss: 0.3463 - val_root_mean_squared_error: 0.5156\n",
      "Epoch 8/50\n",
      "481/481 [==============================] - 1s 2ms/step - loss: 0.3234 - root_mean_squared_error: 0.4969 - val_loss: 0.3177 - val_root_mean_squared_error: 0.4952\n",
      "Epoch 9/50\n",
      "481/481 [==============================] - 1s 2ms/step - loss: 0.3124 - root_mean_squared_error: 0.4937 - val_loss: 0.3201 - val_root_mean_squared_error: 0.5056\n",
      "Epoch 10/50\n",
      "481/481 [==============================] - 1s 2ms/step - loss: 0.3036 - root_mean_squared_error: 0.4918 - val_loss: 0.3005 - val_root_mean_squared_error: 0.4915\n",
      "Epoch 11/50\n",
      "481/481 [==============================] - 1s 2ms/step - loss: 0.2934 - root_mean_squared_error: 0.4870 - val_loss: 0.3114 - val_root_mean_squared_error: 0.5072\n",
      "Epoch 12/50\n",
      "481/481 [==============================] - 1s 2ms/step - loss: 0.2825 - root_mean_squared_error: 0.4803 - val_loss: 0.3212 - val_root_mean_squared_error: 0.5212\n",
      "Epoch 13/50\n",
      "481/481 [==============================] - 1s 2ms/step - loss: 0.2795 - root_mean_squared_error: 0.4813 - val_loss: 0.3114 - val_root_mean_squared_error: 0.5153\n",
      "Epoch 14/50\n",
      "481/481 [==============================] - 1s 2ms/step - loss: 0.2744 - root_mean_squared_error: 0.4793 - val_loss: 0.2911 - val_root_mean_squared_error: 0.4978\n",
      "Epoch 15/50\n",
      "481/481 [==============================] - 1s 2ms/step - loss: 0.2713 - root_mean_squared_error: 0.4788 - val_loss: 0.2716 - val_root_mean_squared_error: 0.4799\n",
      "Epoch 16/50\n",
      "481/481 [==============================] - 1s 2ms/step - loss: 0.2647 - root_mean_squared_error: 0.4737 - val_loss: 0.3160 - val_root_mean_squared_error: 0.5263\n",
      "Epoch 17/50\n",
      "481/481 [==============================] - 1s 2ms/step - loss: 0.2634 - root_mean_squared_error: 0.4742 - val_loss: 0.2726 - val_root_mean_squared_error: 0.4848\n",
      "Epoch 18/50\n",
      "481/481 [==============================] - 1s 2ms/step - loss: 0.2576 - root_mean_squared_error: 0.4692 - val_loss: 0.2697 - val_root_mean_squared_error: 0.4826\n",
      "Epoch 19/50\n",
      "481/481 [==============================] - 1s 2ms/step - loss: 0.2580 - root_mean_squared_error: 0.4708 - val_loss: 0.2702 - val_root_mean_squared_error: 0.4838\n",
      "Epoch 20/50\n",
      "481/481 [==============================] - 1s 2ms/step - loss: 0.2531 - root_mean_squared_error: 0.4660 - val_loss: 0.2718 - val_root_mean_squared_error: 0.4862\n",
      "Epoch 21/50\n",
      "481/481 [==============================] - 1s 2ms/step - loss: 0.2528 - root_mean_squared_error: 0.4667 - val_loss: 0.2653 - val_root_mean_squared_error: 0.4803\n",
      "Epoch 22/50\n",
      "481/481 [==============================] - 1s 2ms/step - loss: 0.2506 - root_mean_squared_error: 0.4647 - val_loss: 0.2619 - val_root_mean_squared_error: 0.4769\n",
      "Epoch 23/50\n",
      "481/481 [==============================] - 1s 2ms/step - loss: 0.3145 - root_mean_squared_error: 0.5263 - val_loss: 0.2736 - val_root_mean_squared_error: 0.4852\n",
      "Epoch 24/50\n",
      "481/481 [==============================] - 1s 2ms/step - loss: 0.2560 - root_mean_squared_error: 0.4672 - val_loss: 0.2928 - val_root_mean_squared_error: 0.5056\n",
      "Epoch 25/50\n",
      "481/481 [==============================] - 1s 2ms/step - loss: 0.2516 - root_mean_squared_error: 0.4635 - val_loss: 0.2655 - val_root_mean_squared_error: 0.4789\n",
      "Epoch 26/50\n",
      "481/481 [==============================] - 1s 2ms/step - loss: 0.2503 - root_mean_squared_error: 0.4631 - val_loss: 0.2633 - val_root_mean_squared_error: 0.4774\n",
      "Epoch 27/50\n",
      "481/481 [==============================] - 1s 2ms/step - loss: 0.2509 - root_mean_squared_error: 0.4643 - val_loss: 0.2625 - val_root_mean_squared_error: 0.4773\n",
      "Epoch 28/50\n",
      "481/481 [==============================] - 1s 2ms/step - loss: 0.2485 - root_mean_squared_error: 0.4625 - val_loss: 0.2752 - val_root_mean_squared_error: 0.4908\n",
      "Epoch 29/50\n",
      "481/481 [==============================] - 1s 2ms/step - loss: 0.2479 - root_mean_squared_error: 0.4621 - val_loss: 0.2635 - val_root_mean_squared_error: 0.4790\n",
      "Epoch 30/50\n",
      "481/481 [==============================] - 1s 2ms/step - loss: 0.2455 - root_mean_squared_error: 0.4602 - val_loss: 0.2609 - val_root_mean_squared_error: 0.4774\n",
      "Epoch 31/50\n",
      "481/481 [==============================] - 1s 2ms/step - loss: 0.2487 - root_mean_squared_error: 0.4643 - val_loss: 0.2587 - val_root_mean_squared_error: 0.4752\n",
      "Epoch 32/50\n",
      "481/481 [==============================] - 1s 2ms/step - loss: 0.2457 - root_mean_squared_error: 0.4615 - val_loss: 0.2648 - val_root_mean_squared_error: 0.4821\n",
      "Epoch 33/50\n",
      "481/481 [==============================] - 1s 2ms/step - loss: 0.2444 - root_mean_squared_error: 0.4605 - val_loss: 0.2602 - val_root_mean_squared_error: 0.4775\n",
      "Epoch 34/50\n",
      "481/481 [==============================] - 1s 2ms/step - loss: 0.2424 - root_mean_squared_error: 0.4586 - val_loss: 0.2589 - val_root_mean_squared_error: 0.4765\n",
      "Epoch 35/50\n",
      "481/481 [==============================] - 1s 2ms/step - loss: 0.2423 - root_mean_squared_error: 0.4588 - val_loss: 0.2713 - val_root_mean_squared_error: 0.4895\n",
      "Epoch 36/50\n",
      "481/481 [==============================] - 1s 2ms/step - loss: 0.2419 - root_mean_squared_error: 0.4587 - val_loss: 0.2605 - val_root_mean_squared_error: 0.4786\n",
      "Epoch 37/50\n",
      "481/481 [==============================] - 1s 2ms/step - loss: 0.2435 - root_mean_squared_error: 0.4607 - val_loss: 0.2557 - val_root_mean_squared_error: 0.4737\n",
      "Epoch 38/50\n",
      "481/481 [==============================] - 1s 2ms/step - loss: 0.2414 - root_mean_squared_error: 0.4586 - val_loss: 0.2580 - val_root_mean_squared_error: 0.4764\n",
      "Epoch 39/50\n",
      "481/481 [==============================] - 1s 2ms/step - loss: 0.2402 - root_mean_squared_error: 0.4575 - val_loss: 0.2672 - val_root_mean_squared_error: 0.4861\n",
      "Epoch 40/50\n",
      "481/481 [==============================] - 1s 2ms/step - loss: 0.2418 - root_mean_squared_error: 0.4593 - val_loss: 0.2551 - val_root_mean_squared_error: 0.4736\n",
      "Epoch 41/50\n",
      "481/481 [==============================] - 1s 2ms/step - loss: 0.2382 - root_mean_squared_error: 0.4555 - val_loss: 0.2587 - val_root_mean_squared_error: 0.4777\n",
      "Epoch 42/50\n",
      "481/481 [==============================] - 1s 2ms/step - loss: 0.2385 - root_mean_squared_error: 0.4561 - val_loss: 0.2617 - val_root_mean_squared_error: 0.4812\n",
      "Epoch 43/50\n",
      "481/481 [==============================] - 1s 2ms/step - loss: 0.2386 - root_mean_squared_error: 0.4567 - val_loss: 0.2569 - val_root_mean_squared_error: 0.4762\n",
      "Epoch 44/50\n",
      "481/481 [==============================] - 1s 2ms/step - loss: 0.2371 - root_mean_squared_error: 0.4548 - val_loss: 0.2508 - val_root_mean_squared_error: 0.4699\n",
      "Epoch 45/50\n",
      "481/481 [==============================] - 1s 2ms/step - loss: 0.2382 - root_mean_squared_error: 0.4563 - val_loss: 0.2554 - val_root_mean_squared_error: 0.4750\n",
      "Epoch 46/50\n",
      "481/481 [==============================] - 1s 2ms/step - loss: 0.2367 - root_mean_squared_error: 0.4548 - val_loss: 0.2590 - val_root_mean_squared_error: 0.4788\n",
      "Epoch 47/50\n",
      "481/481 [==============================] - 1s 2ms/step - loss: 0.2371 - root_mean_squared_error: 0.4551 - val_loss: 0.2541 - val_root_mean_squared_error: 0.4736\n",
      "Epoch 48/50\n",
      "481/481 [==============================] - 1s 2ms/step - loss: 0.2376 - root_mean_squared_error: 0.4559 - val_loss: 0.2636 - val_root_mean_squared_error: 0.4840\n",
      "Epoch 49/50\n",
      "481/481 [==============================] - 1s 2ms/step - loss: 0.2357 - root_mean_squared_error: 0.4540 - val_loss: 0.2653 - val_root_mean_squared_error: 0.4855\n",
      "Epoch 50/50\n",
      "481/481 [==============================] - 1s 2ms/step - loss: 0.2376 - root_mean_squared_error: 0.4560 - val_loss: 0.2722 - val_root_mean_squared_error: 0.4924\n"
     ]
    }
   ],
   "source": [
    "history = model.fit(X_train, y_train, epochs = 50, batch_size = 64, validation_data = (X_val, y_val))"
   ]
  },
  {
   "cell_type": "code",
   "execution_count": 46,
   "id": "4c80e0c7",
   "metadata": {},
   "outputs": [],
   "source": [
    "### Predicted value\n",
    "\n",
    "y_pred_train = model.predict(X_train)\n",
    "y_pred_val = model.predict(X_val)\n",
    "y_pred_test = model.predict(X_test)"
   ]
  },
  {
   "cell_type": "code",
   "execution_count": 47,
   "id": "184b5e91",
   "metadata": {},
   "outputs": [
    {
     "name": "stdout",
     "output_type": "stream",
     "text": [
      "The train R-squared is 0.701787\n",
      "The val R-squared is 0.663985\n",
      "The test R-squared is 0.672094\n"
     ]
    }
   ],
   "source": [
    "from sklearn.metrics import r2_score\n",
    "\n",
    "print('The train R-squared is', round(r2_score(y_train, y_pred_train),6))\n",
    "print('The val R-squared is', round(r2_score(y_val, y_pred_val),6))\n",
    "print('The test R-squared is', round(r2_score(y_test, y_pred_test),6))"
   ]
  },
  {
   "cell_type": "code",
   "execution_count": 48,
   "id": "465b7e0d",
   "metadata": {},
   "outputs": [
    {
     "name": "stdout",
     "output_type": "stream",
     "text": [
      "318/318 [==============================] - 0s 1ms/step - loss: 0.2600 - root_mean_squared_error: 0.4799\n",
      "loss on test is: 0.2600051760673523\n",
      "rmse on test is: 0.4798874258995056\n"
     ]
    }
   ],
   "source": [
    "#### Checking the loss and rmse on the Test data\n",
    "loss, rmse = model.evaluate(X_test, y_test)\n",
    "\n",
    "print('loss on test is:', loss)\n",
    "print('rmse on test is:', rmse)"
   ]
  },
  {
   "cell_type": "code",
   "execution_count": 49,
   "id": "4337f6d0",
   "metadata": {},
   "outputs": [
    {
     "data": {
      "text/html": [
       "<div>\n",
       "<style scoped>\n",
       "    .dataframe tbody tr th:only-of-type {\n",
       "        vertical-align: middle;\n",
       "    }\n",
       "\n",
       "    .dataframe tbody tr th {\n",
       "        vertical-align: top;\n",
       "    }\n",
       "\n",
       "    .dataframe thead th {\n",
       "        text-align: right;\n",
       "    }\n",
       "</style>\n",
       "<table border=\"1\" class=\"dataframe\">\n",
       "  <thead>\n",
       "    <tr style=\"text-align: right;\">\n",
       "      <th></th>\n",
       "      <th>loss</th>\n",
       "      <th>root_mean_squared_error</th>\n",
       "      <th>val_loss</th>\n",
       "      <th>val_root_mean_squared_error</th>\n",
       "      <th>epochs</th>\n",
       "    </tr>\n",
       "  </thead>\n",
       "  <tbody>\n",
       "    <tr>\n",
       "      <th>0</th>\n",
       "      <td>1.176540</td>\n",
       "      <td>0.911049</td>\n",
       "      <td>0.572024</td>\n",
       "      <td>0.557805</td>\n",
       "      <td>1</td>\n",
       "    </tr>\n",
       "    <tr>\n",
       "      <th>1</th>\n",
       "      <td>0.533373</td>\n",
       "      <td>0.558761</td>\n",
       "      <td>0.492502</td>\n",
       "      <td>0.551104</td>\n",
       "      <td>2</td>\n",
       "    </tr>\n",
       "    <tr>\n",
       "      <th>2</th>\n",
       "      <td>0.456394</td>\n",
       "      <td>0.537798</td>\n",
       "      <td>0.422876</td>\n",
       "      <td>0.523741</td>\n",
       "      <td>3</td>\n",
       "    </tr>\n",
       "    <tr>\n",
       "      <th>3</th>\n",
       "      <td>0.412345</td>\n",
       "      <td>0.526267</td>\n",
       "      <td>0.424298</td>\n",
       "      <td>0.548730</td>\n",
       "      <td>4</td>\n",
       "    </tr>\n",
       "    <tr>\n",
       "      <th>4</th>\n",
       "      <td>0.377540</td>\n",
       "      <td>0.513255</td>\n",
       "      <td>0.360647</td>\n",
       "      <td>0.505218</td>\n",
       "      <td>5</td>\n",
       "    </tr>\n",
       "    <tr>\n",
       "      <th>5</th>\n",
       "      <td>0.356147</td>\n",
       "      <td>0.507617</td>\n",
       "      <td>0.342537</td>\n",
       "      <td>0.500802</td>\n",
       "      <td>6</td>\n",
       "    </tr>\n",
       "    <tr>\n",
       "      <th>6</th>\n",
       "      <td>0.337177</td>\n",
       "      <td>0.501019</td>\n",
       "      <td>0.346328</td>\n",
       "      <td>0.515605</td>\n",
       "      <td>7</td>\n",
       "    </tr>\n",
       "    <tr>\n",
       "      <th>7</th>\n",
       "      <td>0.323354</td>\n",
       "      <td>0.496859</td>\n",
       "      <td>0.317677</td>\n",
       "      <td>0.495171</td>\n",
       "      <td>8</td>\n",
       "    </tr>\n",
       "    <tr>\n",
       "      <th>8</th>\n",
       "      <td>0.312422</td>\n",
       "      <td>0.493653</td>\n",
       "      <td>0.320083</td>\n",
       "      <td>0.505649</td>\n",
       "      <td>9</td>\n",
       "    </tr>\n",
       "    <tr>\n",
       "      <th>9</th>\n",
       "      <td>0.303630</td>\n",
       "      <td>0.491828</td>\n",
       "      <td>0.300533</td>\n",
       "      <td>0.491486</td>\n",
       "      <td>10</td>\n",
       "    </tr>\n",
       "    <tr>\n",
       "      <th>10</th>\n",
       "      <td>0.293444</td>\n",
       "      <td>0.486953</td>\n",
       "      <td>0.311410</td>\n",
       "      <td>0.507234</td>\n",
       "      <td>11</td>\n",
       "    </tr>\n",
       "    <tr>\n",
       "      <th>11</th>\n",
       "      <td>0.282547</td>\n",
       "      <td>0.480328</td>\n",
       "      <td>0.321214</td>\n",
       "      <td>0.521224</td>\n",
       "      <td>12</td>\n",
       "    </tr>\n",
       "    <tr>\n",
       "      <th>12</th>\n",
       "      <td>0.279497</td>\n",
       "      <td>0.481311</td>\n",
       "      <td>0.311446</td>\n",
       "      <td>0.515281</td>\n",
       "      <td>13</td>\n",
       "    </tr>\n",
       "    <tr>\n",
       "      <th>13</th>\n",
       "      <td>0.274411</td>\n",
       "      <td>0.479334</td>\n",
       "      <td>0.291132</td>\n",
       "      <td>0.497830</td>\n",
       "      <td>14</td>\n",
       "    </tr>\n",
       "    <tr>\n",
       "      <th>14</th>\n",
       "      <td>0.271317</td>\n",
       "      <td>0.478820</td>\n",
       "      <td>0.271580</td>\n",
       "      <td>0.479887</td>\n",
       "      <td>15</td>\n",
       "    </tr>\n",
       "    <tr>\n",
       "      <th>15</th>\n",
       "      <td>0.264705</td>\n",
       "      <td>0.473678</td>\n",
       "      <td>0.315981</td>\n",
       "      <td>0.526290</td>\n",
       "      <td>16</td>\n",
       "    </tr>\n",
       "    <tr>\n",
       "      <th>16</th>\n",
       "      <td>0.263353</td>\n",
       "      <td>0.474238</td>\n",
       "      <td>0.272612</td>\n",
       "      <td>0.484760</td>\n",
       "      <td>17</td>\n",
       "    </tr>\n",
       "    <tr>\n",
       "      <th>17</th>\n",
       "      <td>0.257554</td>\n",
       "      <td>0.469187</td>\n",
       "      <td>0.269689</td>\n",
       "      <td>0.482646</td>\n",
       "      <td>18</td>\n",
       "    </tr>\n",
       "    <tr>\n",
       "      <th>18</th>\n",
       "      <td>0.258025</td>\n",
       "      <td>0.470763</td>\n",
       "      <td>0.270176</td>\n",
       "      <td>0.483818</td>\n",
       "      <td>19</td>\n",
       "    </tr>\n",
       "    <tr>\n",
       "      <th>19</th>\n",
       "      <td>0.253082</td>\n",
       "      <td>0.466034</td>\n",
       "      <td>0.271797</td>\n",
       "      <td>0.486192</td>\n",
       "      <td>20</td>\n",
       "    </tr>\n",
       "    <tr>\n",
       "      <th>20</th>\n",
       "      <td>0.252807</td>\n",
       "      <td>0.466710</td>\n",
       "      <td>0.265347</td>\n",
       "      <td>0.480329</td>\n",
       "      <td>21</td>\n",
       "    </tr>\n",
       "    <tr>\n",
       "      <th>21</th>\n",
       "      <td>0.250555</td>\n",
       "      <td>0.464741</td>\n",
       "      <td>0.261912</td>\n",
       "      <td>0.476944</td>\n",
       "      <td>22</td>\n",
       "    </tr>\n",
       "    <tr>\n",
       "      <th>22</th>\n",
       "      <td>0.314485</td>\n",
       "      <td>0.526315</td>\n",
       "      <td>0.273576</td>\n",
       "      <td>0.485166</td>\n",
       "      <td>23</td>\n",
       "    </tr>\n",
       "    <tr>\n",
       "      <th>23</th>\n",
       "      <td>0.256007</td>\n",
       "      <td>0.467177</td>\n",
       "      <td>0.292774</td>\n",
       "      <td>0.505639</td>\n",
       "      <td>24</td>\n",
       "    </tr>\n",
       "    <tr>\n",
       "      <th>24</th>\n",
       "      <td>0.251561</td>\n",
       "      <td>0.463486</td>\n",
       "      <td>0.265480</td>\n",
       "      <td>0.478877</td>\n",
       "      <td>25</td>\n",
       "    </tr>\n",
       "    <tr>\n",
       "      <th>25</th>\n",
       "      <td>0.250272</td>\n",
       "      <td>0.463099</td>\n",
       "      <td>0.263339</td>\n",
       "      <td>0.477386</td>\n",
       "      <td>26</td>\n",
       "    </tr>\n",
       "    <tr>\n",
       "      <th>26</th>\n",
       "      <td>0.250860</td>\n",
       "      <td>0.464293</td>\n",
       "      <td>0.262509</td>\n",
       "      <td>0.477342</td>\n",
       "      <td>27</td>\n",
       "    </tr>\n",
       "    <tr>\n",
       "      <th>27</th>\n",
       "      <td>0.248493</td>\n",
       "      <td>0.462520</td>\n",
       "      <td>0.275208</td>\n",
       "      <td>0.490753</td>\n",
       "      <td>28</td>\n",
       "    </tr>\n",
       "    <tr>\n",
       "      <th>28</th>\n",
       "      <td>0.247865</td>\n",
       "      <td>0.462083</td>\n",
       "      <td>0.263535</td>\n",
       "      <td>0.478987</td>\n",
       "      <td>29</td>\n",
       "    </tr>\n",
       "    <tr>\n",
       "      <th>29</th>\n",
       "      <td>0.245528</td>\n",
       "      <td>0.460247</td>\n",
       "      <td>0.260940</td>\n",
       "      <td>0.477377</td>\n",
       "      <td>30</td>\n",
       "    </tr>\n",
       "    <tr>\n",
       "      <th>30</th>\n",
       "      <td>0.248654</td>\n",
       "      <td>0.464259</td>\n",
       "      <td>0.258734</td>\n",
       "      <td>0.475159</td>\n",
       "      <td>31</td>\n",
       "    </tr>\n",
       "    <tr>\n",
       "      <th>31</th>\n",
       "      <td>0.245727</td>\n",
       "      <td>0.461539</td>\n",
       "      <td>0.264765</td>\n",
       "      <td>0.482149</td>\n",
       "      <td>32</td>\n",
       "    </tr>\n",
       "    <tr>\n",
       "      <th>32</th>\n",
       "      <td>0.244425</td>\n",
       "      <td>0.460546</td>\n",
       "      <td>0.260168</td>\n",
       "      <td>0.477539</td>\n",
       "      <td>33</td>\n",
       "    </tr>\n",
       "    <tr>\n",
       "      <th>33</th>\n",
       "      <td>0.242404</td>\n",
       "      <td>0.458567</td>\n",
       "      <td>0.258922</td>\n",
       "      <td>0.476511</td>\n",
       "      <td>34</td>\n",
       "    </tr>\n",
       "    <tr>\n",
       "      <th>34</th>\n",
       "      <td>0.242275</td>\n",
       "      <td>0.458791</td>\n",
       "      <td>0.271307</td>\n",
       "      <td>0.489519</td>\n",
       "      <td>35</td>\n",
       "    </tr>\n",
       "    <tr>\n",
       "      <th>35</th>\n",
       "      <td>0.241873</td>\n",
       "      <td>0.458679</td>\n",
       "      <td>0.260546</td>\n",
       "      <td>0.478615</td>\n",
       "      <td>36</td>\n",
       "    </tr>\n",
       "    <tr>\n",
       "      <th>36</th>\n",
       "      <td>0.243514</td>\n",
       "      <td>0.460733</td>\n",
       "      <td>0.255653</td>\n",
       "      <td>0.473689</td>\n",
       "      <td>37</td>\n",
       "    </tr>\n",
       "    <tr>\n",
       "      <th>37</th>\n",
       "      <td>0.241378</td>\n",
       "      <td>0.458588</td>\n",
       "      <td>0.257976</td>\n",
       "      <td>0.476406</td>\n",
       "      <td>38</td>\n",
       "    </tr>\n",
       "    <tr>\n",
       "      <th>38</th>\n",
       "      <td>0.240175</td>\n",
       "      <td>0.457470</td>\n",
       "      <td>0.267217</td>\n",
       "      <td>0.486132</td>\n",
       "      <td>39</td>\n",
       "    </tr>\n",
       "    <tr>\n",
       "      <th>39</th>\n",
       "      <td>0.241824</td>\n",
       "      <td>0.459324</td>\n",
       "      <td>0.255094</td>\n",
       "      <td>0.473641</td>\n",
       "      <td>40</td>\n",
       "    </tr>\n",
       "    <tr>\n",
       "      <th>40</th>\n",
       "      <td>0.238233</td>\n",
       "      <td>0.455484</td>\n",
       "      <td>0.258687</td>\n",
       "      <td>0.477749</td>\n",
       "      <td>41</td>\n",
       "    </tr>\n",
       "    <tr>\n",
       "      <th>41</th>\n",
       "      <td>0.238486</td>\n",
       "      <td>0.456123</td>\n",
       "      <td>0.261725</td>\n",
       "      <td>0.481172</td>\n",
       "      <td>42</td>\n",
       "    </tr>\n",
       "    <tr>\n",
       "      <th>42</th>\n",
       "      <td>0.238601</td>\n",
       "      <td>0.456670</td>\n",
       "      <td>0.256920</td>\n",
       "      <td>0.476204</td>\n",
       "      <td>43</td>\n",
       "    </tr>\n",
       "    <tr>\n",
       "      <th>43</th>\n",
       "      <td>0.237137</td>\n",
       "      <td>0.454777</td>\n",
       "      <td>0.250760</td>\n",
       "      <td>0.469879</td>\n",
       "      <td>44</td>\n",
       "    </tr>\n",
       "    <tr>\n",
       "      <th>44</th>\n",
       "      <td>0.238247</td>\n",
       "      <td>0.456273</td>\n",
       "      <td>0.255432</td>\n",
       "      <td>0.474970</td>\n",
       "      <td>45</td>\n",
       "    </tr>\n",
       "    <tr>\n",
       "      <th>45</th>\n",
       "      <td>0.236713</td>\n",
       "      <td>0.454790</td>\n",
       "      <td>0.259023</td>\n",
       "      <td>0.478817</td>\n",
       "      <td>46</td>\n",
       "    </tr>\n",
       "    <tr>\n",
       "      <th>46</th>\n",
       "      <td>0.237121</td>\n",
       "      <td>0.455070</td>\n",
       "      <td>0.254105</td>\n",
       "      <td>0.473642</td>\n",
       "      <td>47</td>\n",
       "    </tr>\n",
       "    <tr>\n",
       "      <th>47</th>\n",
       "      <td>0.237615</td>\n",
       "      <td>0.455902</td>\n",
       "      <td>0.263648</td>\n",
       "      <td>0.484002</td>\n",
       "      <td>48</td>\n",
       "    </tr>\n",
       "    <tr>\n",
       "      <th>48</th>\n",
       "      <td>0.235731</td>\n",
       "      <td>0.453967</td>\n",
       "      <td>0.265321</td>\n",
       "      <td>0.485494</td>\n",
       "      <td>49</td>\n",
       "    </tr>\n",
       "    <tr>\n",
       "      <th>49</th>\n",
       "      <td>0.237586</td>\n",
       "      <td>0.455988</td>\n",
       "      <td>0.272218</td>\n",
       "      <td>0.492447</td>\n",
       "      <td>50</td>\n",
       "    </tr>\n",
       "  </tbody>\n",
       "</table>\n",
       "</div>"
      ],
      "text/plain": [
       "        loss  root_mean_squared_error  val_loss  val_root_mean_squared_error  \\\n",
       "0   1.176540                 0.911049  0.572024                     0.557805   \n",
       "1   0.533373                 0.558761  0.492502                     0.551104   \n",
       "2   0.456394                 0.537798  0.422876                     0.523741   \n",
       "3   0.412345                 0.526267  0.424298                     0.548730   \n",
       "4   0.377540                 0.513255  0.360647                     0.505218   \n",
       "5   0.356147                 0.507617  0.342537                     0.500802   \n",
       "6   0.337177                 0.501019  0.346328                     0.515605   \n",
       "7   0.323354                 0.496859  0.317677                     0.495171   \n",
       "8   0.312422                 0.493653  0.320083                     0.505649   \n",
       "9   0.303630                 0.491828  0.300533                     0.491486   \n",
       "10  0.293444                 0.486953  0.311410                     0.507234   \n",
       "11  0.282547                 0.480328  0.321214                     0.521224   \n",
       "12  0.279497                 0.481311  0.311446                     0.515281   \n",
       "13  0.274411                 0.479334  0.291132                     0.497830   \n",
       "14  0.271317                 0.478820  0.271580                     0.479887   \n",
       "15  0.264705                 0.473678  0.315981                     0.526290   \n",
       "16  0.263353                 0.474238  0.272612                     0.484760   \n",
       "17  0.257554                 0.469187  0.269689                     0.482646   \n",
       "18  0.258025                 0.470763  0.270176                     0.483818   \n",
       "19  0.253082                 0.466034  0.271797                     0.486192   \n",
       "20  0.252807                 0.466710  0.265347                     0.480329   \n",
       "21  0.250555                 0.464741  0.261912                     0.476944   \n",
       "22  0.314485                 0.526315  0.273576                     0.485166   \n",
       "23  0.256007                 0.467177  0.292774                     0.505639   \n",
       "24  0.251561                 0.463486  0.265480                     0.478877   \n",
       "25  0.250272                 0.463099  0.263339                     0.477386   \n",
       "26  0.250860                 0.464293  0.262509                     0.477342   \n",
       "27  0.248493                 0.462520  0.275208                     0.490753   \n",
       "28  0.247865                 0.462083  0.263535                     0.478987   \n",
       "29  0.245528                 0.460247  0.260940                     0.477377   \n",
       "30  0.248654                 0.464259  0.258734                     0.475159   \n",
       "31  0.245727                 0.461539  0.264765                     0.482149   \n",
       "32  0.244425                 0.460546  0.260168                     0.477539   \n",
       "33  0.242404                 0.458567  0.258922                     0.476511   \n",
       "34  0.242275                 0.458791  0.271307                     0.489519   \n",
       "35  0.241873                 0.458679  0.260546                     0.478615   \n",
       "36  0.243514                 0.460733  0.255653                     0.473689   \n",
       "37  0.241378                 0.458588  0.257976                     0.476406   \n",
       "38  0.240175                 0.457470  0.267217                     0.486132   \n",
       "39  0.241824                 0.459324  0.255094                     0.473641   \n",
       "40  0.238233                 0.455484  0.258687                     0.477749   \n",
       "41  0.238486                 0.456123  0.261725                     0.481172   \n",
       "42  0.238601                 0.456670  0.256920                     0.476204   \n",
       "43  0.237137                 0.454777  0.250760                     0.469879   \n",
       "44  0.238247                 0.456273  0.255432                     0.474970   \n",
       "45  0.236713                 0.454790  0.259023                     0.478817   \n",
       "46  0.237121                 0.455070  0.254105                     0.473642   \n",
       "47  0.237615                 0.455902  0.263648                     0.484002   \n",
       "48  0.235731                 0.453967  0.265321                     0.485494   \n",
       "49  0.237586                 0.455988  0.272218                     0.492447   \n",
       "\n",
       "   epochs  \n",
       "0       1  \n",
       "1       2  \n",
       "2       3  \n",
       "3       4  \n",
       "4       5  \n",
       "5       6  \n",
       "6       7  \n",
       "7       8  \n",
       "8       9  \n",
       "9      10  \n",
       "10     11  \n",
       "11     12  \n",
       "12     13  \n",
       "13     14  \n",
       "14     15  \n",
       "15     16  \n",
       "16     17  \n",
       "17     18  \n",
       "18     19  \n",
       "19     20  \n",
       "20     21  \n",
       "21     22  \n",
       "22     23  \n",
       "23     24  \n",
       "24     25  \n",
       "25     26  \n",
       "26     27  \n",
       "27     28  \n",
       "28     29  \n",
       "29     30  \n",
       "30     31  \n",
       "31     32  \n",
       "32     33  \n",
       "33     34  \n",
       "34     35  \n",
       "35     36  \n",
       "36     37  \n",
       "37     38  \n",
       "38     39  \n",
       "39     40  \n",
       "40     41  \n",
       "41     42  \n",
       "42     43  \n",
       "43     44  \n",
       "44     45  \n",
       "45     46  \n",
       "46     47  \n",
       "47     48  \n",
       "48     49  \n",
       "49     50  "
      ]
     },
     "metadata": {},
     "output_type": "display_data"
    }
   ],
   "source": [
    "df = pd.DataFrame(history.history)\n",
    "\n",
    "\n",
    "df['epochs'] = df.index + 1\n",
    "df['epochs'] = df['epochs'].apply(str)\n",
    "display(df)"
   ]
  },
  {
   "cell_type": "code",
   "execution_count": 50,
   "id": "33ac6911",
   "metadata": {},
   "outputs": [
    {
     "data": {
      "image/png": "[encoded data removed]",
      "text/plain": [
       "<Figure size 2160x720 with 2 Axes>"
      ]
     },
     "metadata": {
      "needs_background": "light"
     },
     "output_type": "display_data"
    }
   ],
   "source": [
    "### Plot the graphs\n",
    "fig, ax = plt.subplots(1,2, figsize = (30,10))\n",
    "ax[0].plot(df['epochs'], df['loss'], color = '#FF5A5F')\n",
    "ax[0].plot(df['epochs'], df['val_loss'], color = '#00A699')\n",
    "ax[0].legend(['train loss', 'validation loss'])\n",
    "ax[0].set(xlabel=\"Epoch number\", ylabel=\"mean squared error\")\n",
    "ax[0].set_title('MSE Vs Epoch')\n",
    "\n",
    "ax[1].plot(df['epochs'],df['root_mean_squared_error'],color = '#FF5A5F')\n",
    "ax[1].plot(df['epochs'], df['val_root_mean_squared_error'],color = '#00A699')\n",
    "ax[1].legend(['train rmse', 'validation rmse'])\n",
    "ax[1].set(xlabel=\"Epoch number\", ylabel=\"Root mean squared error\")\n",
    "ax[1].set_title('RMSE Vs Epoch')\n",
    "\n",
    "fig.suptitle('MSE and RMSE for Train and Validation sample with each epoch', fontsize = 15, fontweight = 'bold', y = 1.05)\n",
    "fig.tight_layout()\n",
    "plt.show()"
   ]
  },
  {
   "cell_type": "markdown",
   "id": "86d1a4db",
   "metadata": {},
   "source": [
    "## 2. Deep learning model with BERT embeddings to represent the amenities"
   ]
  },
  {
   "cell_type": "code",
   "execution_count": 86,
   "id": "06486ecb",
   "metadata": {},
   "outputs": [],
   "source": [
    "\n",
    "#pip install --quiet \"tensorflow-text==2.8.*\""
   ]
  },
  {
   "cell_type": "code",
   "execution_count": 51,
   "id": "074da0f7",
   "metadata": {},
   "outputs": [],
   "source": [
    "### Import all the required libraries\n",
    "import numpy as np\n",
    "import tensorflow as tf\n",
    "import tensorflow_hub as hub\n",
    "import tensorflow_text as text\n",
    "import pandas as pd\n",
    "import numpy as np\n",
    "import re\n",
    "import tensorflow as tf\n",
    "from sklearn.preprocessing import StandardScaler\n",
    "from tensorflow.keras.preprocessing.text import Tokenizer\n",
    "from tensorflow.keras.models import Sequential\n",
    "from tensorflow.keras.layers import Embedding, LSTM, Dense, Bidirectional, Dropout\n",
    "from tensorflow.keras.callbacks import EarlyStopping\n",
    "from tensorflow.keras.callbacks import ModelCheckpoint\n",
    "from tensorflow.keras.models import load_model\n",
    "import matplotlib.pyplot as plt\n",
    "%matplotlib inline"
   ]
  },
  {
   "cell_type": "code",
   "execution_count": 52,
   "id": "964c4bbb",
   "metadata": {},
   "outputs": [],
   "source": [
    "# Define the model\n",
    "BERT_MODEL = \"https://tfhub.dev/google/experts/bert/wiki_books/2\"\n",
    " \n",
    "# Choose the preprocessing that must match the model\n",
    "PREPROCESS_MODEL = \"https://tfhub.dev/tensorflow/bert_en_uncased_preprocess/3\""
   ]
  },
  {
   "cell_type": "code",
   "execution_count": 53,
   "id": "7057f4a7",
   "metadata": {},
   "outputs": [],
   "source": [
    "preprocess = hub.load(PREPROCESS_MODEL)\n",
    "bert = hub.load(BERT_MODEL)"
   ]
  },
  {
   "cell_type": "code",
   "execution_count": 54,
   "id": "78382e65",
   "metadata": {},
   "outputs": [],
   "source": [
    "def text_to_emb(input_text):\n",
    "    input_text_lst = [input_text]\n",
    "    inputs = preprocess(input_text_lst)\n",
    "    outputs = bert(inputs)\n",
    "    return np.array((outputs['pooled_output']))\n"
   ]
  },
  {
   "cell_type": "code",
   "execution_count": 55,
   "id": "d329155e",
   "metadata": {},
   "outputs": [],
   "source": [
    "cleaned_data = pd.read_csv('./assets/cleaned_assets/df_cleaned.csv')"
   ]
  },
  {
   "cell_type": "code",
   "execution_count": 56,
   "id": "d4573142",
   "metadata": {},
   "outputs": [],
   "source": [
    "#### Split the cleaned data into Train, Val, Test. Splitting data before proceeding will help avoid target leakage\n",
    "\n",
    "#### 2. Split the data into Train-Val-Test.\n",
    "def get_train_val_test(df, fractions, RANDOM_SEED):\n",
    "    # Get the required input and target variables from dataframe and drop NA rows:\n",
    "    df = df.dropna()\n",
    "    # shuffling the data:\n",
    "    df = df.sample(frac = 1, random_state = RANDOM_SEED)\n",
    "    # split into training, validation and testing sets\n",
    "    train_df, val_df, test_df = np.array_split(df, (fractions[:-1].cumsum() * len(df)).astype(int))\n",
    "    \n",
    "    if len(train_df) + len(val_df) + len(test_df) != len(df):\n",
    "        print(\"Check the splitting method!\")\n",
    "    else:\n",
    "        return train_df, val_df, test_df\n",
    "\n",
    "RANDOM_SEED = 44\n",
    "fractions = np.array([0.6, 0.2, 0.2])\n",
    "train_df, val_df, test_df = get_train_val_test(cleaned_data, fractions, RANDOM_SEED)"
   ]
  },
  {
   "cell_type": "code",
   "execution_count": 57,
   "id": "c90ee625",
   "metadata": {},
   "outputs": [
    {
     "name": "stdout",
     "output_type": "stream",
     "text": [
      "training size =  43147\n",
      "validation size =  14382\n",
      "test size =  14383\n"
     ]
    }
   ],
   "source": [
    "print('training size = ',len(train_df))\n",
    "print('validation size = ', len(val_df))\n",
    "print('test size = ', len(test_df))"
   ]
  },
  {
   "cell_type": "code",
   "execution_count": 58,
   "id": "641df9a2",
   "metadata": {},
   "outputs": [],
   "source": [
    "def amenities_clean(string1):\n",
    "    str2 = (re.sub(r'[\\[\\]\"0-9\\\\u]', '',string1)).strip().lower()\n",
    "    \n",
    "    return str2"
   ]
  },
  {
   "cell_type": "code",
   "execution_count": 59,
   "id": "64444daa",
   "metadata": {},
   "outputs": [],
   "source": [
    "#### clean the amenities column to remove '[',']' and double quotes and covert to lower case\n",
    "\n",
    "train_df['amenities1'] = train_df['amenities'].apply(amenities_clean)\n",
    "val_df['amenities1'] = val_df['amenities'].apply(amenities_clean)\n",
    "test_df['amenities1'] = test_df['amenities'].apply(amenities_clean)\n"
   ]
  },
  {
   "cell_type": "code",
   "execution_count": null,
   "id": "decb4131",
   "metadata": {},
   "outputs": [],
   "source": [
    "#################################################################################\n",
    "#####IMPORTANT : RUN THIS ONLY ONCE. ITS TAKES A LOT OF TIME TO RUN##############\n",
    "#################################################################################\n",
    "\n",
    "#### get the BERT embedding for each unique phrase in the training data\n",
    "train_all_amenities = train_df2['amenities1']\n",
    "all_phrases = set()\n",
    "\n",
    "for i in train_all_amenities:\n",
    "    list_amenities = [k.strip() for k in i.split(\",\")]\n",
    "    for j in list_amenities:\n",
    "        all_phrases.add(j)\n",
    "all_phrases.remove('') ###removing blank phrases\n",
    "\n",
    "embedding_dict = {}\n",
    "for amm1 in list(all_phrases):\n",
    "    embedding_dict[amm1] = text_to_emb(amm1).flatten()\n",
    "    \n"
   ]
  },
  {
   "cell_type": "code",
   "execution_count": 63,
   "id": "adfb55cc",
   "metadata": {},
   "outputs": [
    {
     "data": {
      "text/plain": [
       "(768,)"
      ]
     },
     "execution_count": 63,
     "metadata": {},
     "output_type": "execute_result"
    }
   ],
   "source": [
    "####this will come useful if we are not able to \n",
    "avg_embedding = np.mean(list(embedding_dict.values()), axis = 0)\n",
    "avg_embedding.shape"
   ]
  },
  {
   "cell_type": "code",
   "execution_count": null,
   "id": "c9920c9a",
   "metadata": {},
   "outputs": [],
   "source": [
    "### writing the dictionary somewhere because it takes a long time to run\n",
    "import pickle\n",
    "\n",
    "with open('bert_data.pkl', 'wb') as fp:\n",
    "    pickle.dump(embedding_dict, fp)\n",
    "    print('dictionary saved successfully to file')"
   ]
  },
  {
   "cell_type": "code",
   "execution_count": 60,
   "id": "a56b9c64",
   "metadata": {},
   "outputs": [
    {
     "name": "stdout",
     "output_type": "stream",
     "text": [
      "bert dictionary\n"
     ]
    }
   ],
   "source": [
    "import pickle\n",
    "#### load the bert pickle file\n",
    "with open('bert_data.pkl', 'rb') as fp:\n",
    "    embedding_dict_copy = pickle.load(fp)\n",
    "    print('bert dictionary')\n",
    "    \n"
   ]
  },
  {
   "cell_type": "code",
   "execution_count": 62,
   "id": "1013e960",
   "metadata": {},
   "outputs": [],
   "source": [
    "###Uncomment when you need to use the saved embedding dictionary\n",
    "#embedding_dict = embedding_dict_copy"
   ]
  },
  {
   "cell_type": "code",
   "execution_count": 64,
   "id": "afa5f1b9",
   "metadata": {},
   "outputs": [],
   "source": [
    "def bert_avg_embedding(all_amenities):\n",
    "    list_amenities = [i.strip() for i in all_amenities.split(\",\")]\n",
    "    arr1 = np.zeros(768)\n",
    "    for each_a in list_amenities:\n",
    "        try:\n",
    "            ret_arr = embedding_dict[each_a]\n",
    "        except:\n",
    "            ret_arr = avg_embedding\n",
    "        arr1 = arr1+ret_arr\n",
    "    avg_array = arr1/max(1,len(list_amenities))\n",
    "    return avg_array"
   ]
  },
  {
   "cell_type": "code",
   "execution_count": 65,
   "id": "2219a64f",
   "metadata": {},
   "outputs": [],
   "source": [
    "#### Identify the columns to be standardized.\n",
    "cols = ['total_crimes','Population per square kilometre','Property price','accommodates','minimum_nights','maximum_nights','number_of_reviews','amenities_count',\\\n",
    "        'closest_station_dist','within_1k_station','closest_POI_dist','within_5k_POI','dist_from_center']\n",
    "\n",
    "scaler = StandardScaler()\n",
    "train_df[cols] = scaler.fit_transform(train_df[cols])\n",
    "val_df[cols] = scaler.transform(val_df[cols])\n",
    "test_df[cols] = scaler.transform(test_df[cols])"
   ]
  },
  {
   "cell_type": "code",
   "execution_count": 66,
   "id": "ad60fae4",
   "metadata": {},
   "outputs": [],
   "source": [
    "#### Create dummy variables (one-hot encoding) for Borough, room_type, property_type. Lets not create dummies\n",
    "train_df1 = pd.get_dummies(train_df, columns = ['Borough','room_type','property_type'])\n",
    "val_df1 = pd.get_dummies(val_df, columns = ['Borough','room_type','property_type'])\n",
    "test_df1 = pd.get_dummies(test_df, columns = ['Borough','room_type','property_type'])"
   ]
  },
  {
   "cell_type": "code",
   "execution_count": 67,
   "id": "a9128182",
   "metadata": {},
   "outputs": [],
   "source": [
    "train_df1, val_df1 = train_df1.align(val_df1, join='left', axis=1, fill_value = 0)\n",
    "\n",
    "train_df1, test_df1 = train_df1.align(test_df1, join='left', axis=1, fill_value = 0)"
   ]
  },
  {
   "cell_type": "code",
   "execution_count": 68,
   "id": "5138ff0d",
   "metadata": {},
   "outputs": [
    {
     "data": {
      "text/plain": [
       "(14382, 153)"
      ]
     },
     "execution_count": 68,
     "metadata": {},
     "output_type": "execute_result"
    }
   ],
   "source": [
    "val_df1.shape"
   ]
  },
  {
   "cell_type": "code",
   "execution_count": 69,
   "id": "3b80206c",
   "metadata": {},
   "outputs": [
    {
     "data": {
      "text/plain": [
       "0.01      20.00\n",
       "0.02      24.00\n",
       "0.95     495.00\n",
       "0.98    1047.24\n",
       "0.99    1570.00\n",
       "Name: price, dtype: float64"
      ]
     },
     "execution_count": 69,
     "metadata": {},
     "output_type": "execute_result"
    }
   ],
   "source": [
    "#### look at the quantile for price\n",
    "train_df.price.quantile([0.01,0.02,0.95,0.98,0.99])"
   ]
  },
  {
   "cell_type": "code",
   "execution_count": 70,
   "id": "35367ad0",
   "metadata": {},
   "outputs": [
    {
     "name": "stdout",
     "output_type": "stream",
     "text": [
      "   image_id  interior    entire       avg  normalized_avg\n",
      "0     13913  5.221664  5.358303  5.289983        6.426101\n",
      "1     15400  5.099636  5.424931  5.262284        6.300351\n",
      "2    172811  4.972842  3.823302  4.398072        2.377051\n",
      "3    173082  5.765924  5.875356  5.820640        8.835144\n",
      "4     42010  5.487355  5.249705  5.368530        6.782684\n"
     ]
    }
   ],
   "source": [
    "#### Get the variables from the CNN model by Elias\n",
    "attract_data = pd.read_csv('./assets/cleaned_assets/id_score.csv')\n",
    "\n",
    "print(attract_data.head())"
   ]
  },
  {
   "cell_type": "code",
   "execution_count": 71,
   "id": "66162c18",
   "metadata": {},
   "outputs": [],
   "source": [
    "### merge the CNN model data to the train_df1, val_df1, test_df1\n",
    "train_df2 = pd.merge(left = train_df1, right = attract_data, left_on = 'id', right_on = 'image_id', how = 'inner')\n",
    "\n",
    "val_df2 = pd.merge(left = val_df1, right = attract_data, left_on = 'id', right_on = 'image_id', how = 'inner')\n",
    "\n",
    "test_df2 = pd.merge(left = test_df1, right = attract_data, left_on = 'id', right_on = 'image_id', how = 'inner')"
   ]
  },
  {
   "cell_type": "code",
   "execution_count": 72,
   "id": "d8364e75",
   "metadata": {},
   "outputs": [
    {
     "name": "stdout",
     "output_type": "stream",
     "text": [
      "New train data (30725, 158)\n",
      "New val data (10178, 158)\n",
      "New test data (10172, 158)\n"
     ]
    }
   ],
   "source": [
    "####updated counts\n",
    "\n",
    "print('New train data', train_df2.shape)\n",
    "print('New val data', val_df2.shape)\n",
    "print('New test data', test_df2.shape)"
   ]
  },
  {
   "cell_type": "markdown",
   "id": "b4f1c07f",
   "metadata": {},
   "source": [
    "#### 2A: Deep leaning model with BERT embedding + features from the CNN model "
   ]
  },
  {
   "cell_type": "code",
   "execution_count": 87,
   "id": "f6bf103c",
   "metadata": {},
   "outputs": [],
   "source": [
    "#### Run the model using all features including the ones created by CNN\n",
    "def final_df_BERT_with_CNN(input_df):\n",
    "    input_df['price1'] = np.where(input_df.price > 1570, 1570, input_df.price) ###Cap the price to handle extreme values\n",
    "    input_df['price1'] = np.where(input_df.price1 < 20, 20, input_df.price1) ###Floor the price to handle extreme values\n",
    "    all_amenities = input_df['amenities1']\n",
    "    other_features = input_df.drop(columns = ['Unnamed: 0', 'Census population', 'id','neighbourhood_cleansed','latitude', 'longitude','host_since',\\\n",
    "              'amenities','amenities1','price','price1','image_id','avg',\\\n",
    "               'host_identity_verified','host_is_superhost','host_has_profile_pic']) ##keeping normalized avg\n",
    "\n",
    "    dv1 = np.log(input_df['price1'])\n",
    "\n",
    "    idv1 = other_features.to_numpy()\n",
    "    dv_f = dv1.to_numpy()\n",
    "    #### Now lets convert the amenities to BERT embeddings\n",
    "    amenities_array = np.zeros((len(input_df),768))\n",
    "    cnt = 0\n",
    "    for i in all_amenities:\n",
    "        amenities_array[cnt] = bert_avg_embedding(i)\n",
    "        cnt = cnt +1\n",
    "    x_final = np.concatenate((idv1,amenities_array), axis = 1)\n",
    "    return x_final, dv_f"
   ]
  },
  {
   "cell_type": "code",
   "execution_count": 88,
   "id": "04301296",
   "metadata": {},
   "outputs": [],
   "source": [
    "X_train, y_train = final_df_BERT_with_CNN(train_df2)\n",
    "\n",
    "X_val, y_val = final_df_BERT_with_CNN(val_df2)\n",
    "\n",
    "\n",
    "X_test, y_test = final_df_BERT_with_CNN(test_df2)"
   ]
  },
  {
   "cell_type": "code",
   "execution_count": 89,
   "id": "43efce62",
   "metadata": {},
   "outputs": [
    {
     "data": {
      "text/plain": [
       "(10172, 911)"
      ]
     },
     "execution_count": 89,
     "metadata": {},
     "output_type": "execute_result"
    }
   ],
   "source": [
    "X_test.shape"
   ]
  },
  {
   "cell_type": "code",
   "execution_count": 95,
   "id": "1948bc2b",
   "metadata": {},
   "outputs": [],
   "source": [
    "model = Sequential([\n",
    "    Dense(256, activation = 'relu', input_shape = (X_train.shape[1],), kernel_regularizer = tf.keras.regularizers.L2(0.0001)),\n",
    "    Dense(64, activation = 'relu', kernel_regularizer = tf.keras.regularizers.L2(0.0001)),\n",
    "    Dense(32, activation = 'relu', kernel_regularizer = tf.keras.regularizers.L2(0.0001)),\n",
    "    Dense(16, activation = 'relu', kernel_regularizer = tf.keras.regularizers.L2(0.0001)),\n",
    "    Dense(1, activation = 'linear', kernel_regularizer = tf.keras.regularizers.L2(0.0001))\n",
    "])"
   ]
  },
  {
   "cell_type": "code",
   "execution_count": 96,
   "id": "8ae90423",
   "metadata": {},
   "outputs": [],
   "source": [
    "model.compile(optimizer = 'adam',\n",
    "            loss = 'mse',\n",
    "             metrics = [tf.keras.metrics.RootMeanSquaredError()])"
   ]
  },
  {
   "cell_type": "code",
   "execution_count": 97,
   "id": "480fb205",
   "metadata": {},
   "outputs": [
    {
     "name": "stdout",
     "output_type": "stream",
     "text": [
      "Epoch 1/100\n",
      "481/481 [==============================] - 2s 3ms/step - loss: 0.5774 - root_mean_squared_error: 0.7306 - val_loss: 0.3430 - val_root_mean_squared_error: 0.5506\n",
      "Epoch 2/100\n",
      "481/481 [==============================] - 1s 3ms/step - loss: 0.3561 - root_mean_squared_error: 0.5640 - val_loss: 0.3326 - val_root_mean_squared_error: 0.5439\n",
      "Epoch 3/100\n",
      "481/481 [==============================] - 1s 3ms/step - loss: 0.3502 - root_mean_squared_error: 0.5608 - val_loss: 0.3255 - val_root_mean_squared_error: 0.5390\n",
      "Epoch 4/100\n",
      "481/481 [==============================] - 1s 3ms/step - loss: 0.3246 - root_mean_squared_error: 0.5390 - val_loss: 0.2956 - val_root_mean_squared_error: 0.5121\n",
      "Epoch 5/100\n",
      "481/481 [==============================] - 1s 3ms/step - loss: 0.2997 - root_mean_squared_error: 0.5167 - val_loss: 0.2908 - val_root_mean_squared_error: 0.5087\n",
      "Epoch 6/100\n",
      "481/481 [==============================] - 1s 3ms/step - loss: 0.2811 - root_mean_squared_error: 0.5001 - val_loss: 0.3245 - val_root_mean_squared_error: 0.5427\n",
      "Epoch 7/100\n",
      "481/481 [==============================] - 1s 3ms/step - loss: 0.2758 - root_mean_squared_error: 0.4967 - val_loss: 0.2720 - val_root_mean_squared_error: 0.4938\n",
      "Epoch 8/100\n",
      "481/481 [==============================] - 1s 3ms/step - loss: 0.2725 - root_mean_squared_error: 0.4953 - val_loss: 0.2867 - val_root_mean_squared_error: 0.5102\n",
      "Epoch 9/100\n",
      "481/481 [==============================] - 1s 3ms/step - loss: 0.2651 - root_mean_squared_error: 0.4894 - val_loss: 0.2625 - val_root_mean_squared_error: 0.4875\n",
      "Epoch 10/100\n",
      "481/481 [==============================] - 1s 3ms/step - loss: 0.2632 - root_mean_squared_error: 0.4889 - val_loss: 0.2537 - val_root_mean_squared_error: 0.4799\n",
      "Epoch 11/100\n",
      "481/481 [==============================] - 1s 3ms/step - loss: 0.2539 - root_mean_squared_error: 0.4809 - val_loss: 0.2773 - val_root_mean_squared_error: 0.5053\n",
      "Epoch 12/100\n",
      "481/481 [==============================] - 1s 3ms/step - loss: 0.2544 - root_mean_squared_error: 0.4825 - val_loss: 0.2556 - val_root_mean_squared_error: 0.4843\n",
      "Epoch 13/100\n",
      "481/481 [==============================] - 1s 3ms/step - loss: 0.2509 - root_mean_squared_error: 0.4801 - val_loss: 0.2556 - val_root_mean_squared_error: 0.4856\n",
      "Epoch 14/100\n",
      "481/481 [==============================] - 1s 3ms/step - loss: 0.2479 - root_mean_squared_error: 0.4779 - val_loss: 0.2794 - val_root_mean_squared_error: 0.5102\n",
      "Epoch 15/100\n",
      "481/481 [==============================] - 1s 3ms/step - loss: 0.2484 - root_mean_squared_error: 0.4792 - val_loss: 0.2517 - val_root_mean_squared_error: 0.4829\n",
      "Epoch 16/100\n",
      "481/481 [==============================] - 1s 3ms/step - loss: 0.2476 - root_mean_squared_error: 0.4789 - val_loss: 0.2463 - val_root_mean_squared_error: 0.4778\n",
      "Epoch 17/100\n",
      "481/481 [==============================] - 1s 3ms/step - loss: 0.2450 - root_mean_squared_error: 0.4768 - val_loss: 0.2581 - val_root_mean_squared_error: 0.4905\n",
      "Epoch 18/100\n",
      "481/481 [==============================] - 1s 3ms/step - loss: 0.2464 - root_mean_squared_error: 0.4788 - val_loss: 0.2442 - val_root_mean_squared_error: 0.4767\n",
      "Epoch 19/100\n",
      "481/481 [==============================] - 1s 3ms/step - loss: 0.2387 - root_mean_squared_error: 0.4711 - val_loss: 0.2415 - val_root_mean_squared_error: 0.4741\n",
      "Epoch 20/100\n",
      "481/481 [==============================] - 1s 3ms/step - loss: 0.2400 - root_mean_squared_error: 0.4729 - val_loss: 0.2698 - val_root_mean_squared_error: 0.5036\n",
      "Epoch 21/100\n",
      "481/481 [==============================] - 1s 3ms/step - loss: 0.2389 - root_mean_squared_error: 0.4721 - val_loss: 0.2661 - val_root_mean_squared_error: 0.5002\n",
      "Epoch 22/100\n",
      "481/481 [==============================] - 1s 3ms/step - loss: 0.2422 - root_mean_squared_error: 0.4757 - val_loss: 0.2728 - val_root_mean_squared_error: 0.5070\n",
      "Epoch 23/100\n",
      "481/481 [==============================] - 1s 3ms/step - loss: 0.2370 - root_mean_squared_error: 0.4703 - val_loss: 0.2418 - val_root_mean_squared_error: 0.4756\n",
      "Epoch 24/100\n",
      "481/481 [==============================] - 1s 3ms/step - loss: 0.2370 - root_mean_squared_error: 0.4707 - val_loss: 0.2483 - val_root_mean_squared_error: 0.4827\n",
      "Epoch 25/100\n",
      "481/481 [==============================] - 1s 3ms/step - loss: 0.2375 - root_mean_squared_error: 0.4713 - val_loss: 0.2483 - val_root_mean_squared_error: 0.4827\n",
      "Epoch 26/100\n",
      "481/481 [==============================] - 1s 3ms/step - loss: 0.2334 - root_mean_squared_error: 0.4671 - val_loss: 0.2407 - val_root_mean_squared_error: 0.4747\n",
      "Epoch 27/100\n",
      "481/481 [==============================] - 1s 3ms/step - loss: 0.2320 - root_mean_squared_error: 0.4658 - val_loss: 0.2554 - val_root_mean_squared_error: 0.4905\n",
      "Epoch 28/100\n",
      "481/481 [==============================] - 1s 3ms/step - loss: 0.2332 - root_mean_squared_error: 0.4672 - val_loss: 0.2405 - val_root_mean_squared_error: 0.4750\n",
      "Epoch 29/100\n",
      "481/481 [==============================] - 1s 3ms/step - loss: 0.2314 - root_mean_squared_error: 0.4653 - val_loss: 0.2373 - val_root_mean_squared_error: 0.4717\n",
      "Epoch 30/100\n",
      "481/481 [==============================] - 1s 3ms/step - loss: 0.2305 - root_mean_squared_error: 0.4645 - val_loss: 0.2373 - val_root_mean_squared_error: 0.4717\n",
      "Epoch 31/100\n",
      "481/481 [==============================] - 1s 3ms/step - loss: 0.2322 - root_mean_squared_error: 0.4660 - val_loss: 0.2396 - val_root_mean_squared_error: 0.4741\n",
      "Epoch 32/100\n",
      "481/481 [==============================] - 1s 3ms/step - loss: 0.2311 - root_mean_squared_error: 0.4651 - val_loss: 0.2377 - val_root_mean_squared_error: 0.4723\n",
      "Epoch 33/100\n",
      "481/481 [==============================] - 1s 3ms/step - loss: 0.2290 - root_mean_squared_error: 0.4630 - val_loss: 0.2469 - val_root_mean_squared_error: 0.4818\n",
      "Epoch 34/100\n",
      "481/481 [==============================] - 1s 3ms/step - loss: 0.2282 - root_mean_squared_error: 0.4620 - val_loss: 0.3189 - val_root_mean_squared_error: 0.5516\n",
      "Epoch 35/100\n",
      "481/481 [==============================] - 1s 3ms/step - loss: 0.2303 - root_mean_squared_error: 0.4643 - val_loss: 0.2376 - val_root_mean_squared_error: 0.4721\n",
      "Epoch 36/100\n",
      "481/481 [==============================] - 1s 3ms/step - loss: 0.2420 - root_mean_squared_error: 0.4764 - val_loss: 0.2445 - val_root_mean_squared_error: 0.4789\n",
      "Epoch 37/100\n",
      "481/481 [==============================] - 1s 3ms/step - loss: 0.2277 - root_mean_squared_error: 0.4611 - val_loss: 0.2482 - val_root_mean_squared_error: 0.4829\n",
      "Epoch 38/100\n",
      "481/481 [==============================] - 1s 3ms/step - loss: 0.2332 - root_mean_squared_error: 0.4672 - val_loss: 0.2444 - val_root_mean_squared_error: 0.4790\n",
      "Epoch 39/100\n",
      "481/481 [==============================] - 1s 3ms/step - loss: 0.2281 - root_mean_squared_error: 0.4618 - val_loss: 0.2922 - val_root_mean_squared_error: 0.5266\n",
      "Epoch 40/100\n",
      "481/481 [==============================] - 1s 3ms/step - loss: 0.2301 - root_mean_squared_error: 0.4639 - val_loss: 0.2340 - val_root_mean_squared_error: 0.4682\n",
      "Epoch 41/100\n",
      "481/481 [==============================] - 1s 3ms/step - loss: 0.2310 - root_mean_squared_error: 0.4650 - val_loss: 0.2441 - val_root_mean_squared_error: 0.4788\n",
      "Epoch 42/100\n",
      "481/481 [==============================] - 1s 3ms/step - loss: 0.2273 - root_mean_squared_error: 0.4609 - val_loss: 0.2463 - val_root_mean_squared_error: 0.4812\n",
      "Epoch 43/100\n",
      "481/481 [==============================] - 1s 3ms/step - loss: 0.2296 - root_mean_squared_error: 0.4634 - val_loss: 0.2434 - val_root_mean_squared_error: 0.4782\n",
      "Epoch 44/100\n",
      "481/481 [==============================] - 1s 3ms/step - loss: 0.2269 - root_mean_squared_error: 0.4607 - val_loss: 0.2377 - val_root_mean_squared_error: 0.4724\n",
      "Epoch 45/100\n",
      "481/481 [==============================] - 1s 3ms/step - loss: 0.2258 - root_mean_squared_error: 0.4597 - val_loss: 0.2470 - val_root_mean_squared_error: 0.4822\n",
      "Epoch 46/100\n",
      "481/481 [==============================] - 1s 3ms/step - loss: 0.2284 - root_mean_squared_error: 0.4624 - val_loss: 0.2388 - val_root_mean_squared_error: 0.4736\n",
      "Epoch 47/100\n",
      "481/481 [==============================] - 1s 3ms/step - loss: 0.2252 - root_mean_squared_error: 0.4591 - val_loss: 0.2497 - val_root_mean_squared_error: 0.4851\n",
      "Epoch 48/100\n",
      "481/481 [==============================] - 1s 3ms/step - loss: 0.2257 - root_mean_squared_error: 0.4597 - val_loss: 0.2365 - val_root_mean_squared_error: 0.4712\n",
      "Epoch 49/100\n",
      "481/481 [==============================] - 1s 3ms/step - loss: 0.2268 - root_mean_squared_error: 0.4610 - val_loss: 0.2444 - val_root_mean_squared_error: 0.4797\n",
      "Epoch 50/100\n",
      "481/481 [==============================] - 1s 3ms/step - loss: 0.2264 - root_mean_squared_error: 0.4605 - val_loss: 0.2347 - val_root_mean_squared_error: 0.4694\n",
      "Epoch 51/100\n",
      "481/481 [==============================] - 1s 3ms/step - loss: 0.2255 - root_mean_squared_error: 0.4596 - val_loss: 0.2390 - val_root_mean_squared_error: 0.4740\n",
      "Epoch 52/100\n",
      "481/481 [==============================] - 1s 3ms/step - loss: 0.2285 - root_mean_squared_error: 0.4628 - val_loss: 0.2376 - val_root_mean_squared_error: 0.4725\n",
      "Epoch 53/100\n",
      "481/481 [==============================] - 1s 3ms/step - loss: 0.2259 - root_mean_squared_error: 0.4600 - val_loss: 0.2369 - val_root_mean_squared_error: 0.4718\n",
      "Epoch 54/100\n",
      "481/481 [==============================] - 1s 3ms/step - loss: 0.2244 - root_mean_squared_error: 0.4584 - val_loss: 0.2439 - val_root_mean_squared_error: 0.4791\n",
      "Epoch 55/100\n",
      "481/481 [==============================] - 1s 3ms/step - loss: 0.2265 - root_mean_squared_error: 0.4606 - val_loss: 0.2346 - val_root_mean_squared_error: 0.4692\n",
      "Epoch 56/100\n",
      "481/481 [==============================] - 1s 3ms/step - loss: 0.2253 - root_mean_squared_error: 0.4592 - val_loss: 0.2700 - val_root_mean_squared_error: 0.5055\n",
      "Epoch 57/100\n",
      "481/481 [==============================] - 1s 3ms/step - loss: 0.2290 - root_mean_squared_error: 0.4631 - val_loss: 0.2339 - val_root_mean_squared_error: 0.4683\n",
      "Epoch 58/100\n",
      "481/481 [==============================] - 1s 3ms/step - loss: 0.2276 - root_mean_squared_error: 0.4615 - val_loss: 0.2435 - val_root_mean_squared_error: 0.4784\n",
      "Epoch 59/100\n",
      "481/481 [==============================] - 1s 3ms/step - loss: 0.2214 - root_mean_squared_error: 0.4549 - val_loss: 0.2399 - val_root_mean_squared_error: 0.4749\n",
      "Epoch 60/100\n",
      "481/481 [==============================] - 1s 3ms/step - loss: 0.2293 - root_mean_squared_error: 0.4635 - val_loss: 0.2430 - val_root_mean_squared_error: 0.4780\n",
      "Epoch 61/100\n",
      "481/481 [==============================] - 1s 3ms/step - loss: 0.2233 - root_mean_squared_error: 0.4570 - val_loss: 0.2352 - val_root_mean_squared_error: 0.4700\n",
      "Epoch 62/100\n",
      "481/481 [==============================] - 1s 3ms/step - loss: 0.2224 - root_mean_squared_error: 0.4562 - val_loss: 0.2356 - val_root_mean_squared_error: 0.4704\n",
      "Epoch 63/100\n",
      "481/481 [==============================] - 1s 3ms/step - loss: 0.2230 - root_mean_squared_error: 0.4568 - val_loss: 0.2424 - val_root_mean_squared_error: 0.4777\n",
      "Epoch 64/100\n",
      "481/481 [==============================] - 1s 3ms/step - loss: 0.2245 - root_mean_squared_error: 0.4585 - val_loss: 0.2775 - val_root_mean_squared_error: 0.5129\n",
      "Epoch 65/100\n",
      "481/481 [==============================] - 1s 3ms/step - loss: 0.2231 - root_mean_squared_error: 0.4568 - val_loss: 0.2381 - val_root_mean_squared_error: 0.4730\n",
      "Epoch 66/100\n",
      "481/481 [==============================] - 1s 3ms/step - loss: 0.2235 - root_mean_squared_error: 0.4573 - val_loss: 0.2446 - val_root_mean_squared_error: 0.4798\n",
      "Epoch 67/100\n",
      "481/481 [==============================] - 1s 3ms/step - loss: 0.2222 - root_mean_squared_error: 0.4559 - val_loss: 0.2359 - val_root_mean_squared_error: 0.4707\n",
      "Epoch 68/100\n",
      "481/481 [==============================] - 1s 3ms/step - loss: 0.2287 - root_mean_squared_error: 0.4628 - val_loss: 0.2623 - val_root_mean_squared_error: 0.4977\n",
      "Epoch 69/100\n",
      "481/481 [==============================] - 1s 3ms/step - loss: 0.2255 - root_mean_squared_error: 0.4592 - val_loss: 0.2336 - val_root_mean_squared_error: 0.4679\n",
      "Epoch 70/100\n",
      "481/481 [==============================] - 1s 3ms/step - loss: 0.2215 - root_mean_squared_error: 0.4550 - val_loss: 0.2441 - val_root_mean_squared_error: 0.4793\n",
      "Epoch 71/100\n",
      "481/481 [==============================] - 1s 3ms/step - loss: 0.2221 - root_mean_squared_error: 0.4557 - val_loss: 0.2639 - val_root_mean_squared_error: 0.4995\n",
      "Epoch 72/100\n",
      "481/481 [==============================] - 1s 3ms/step - loss: 0.2216 - root_mean_squared_error: 0.4552 - val_loss: 0.2424 - val_root_mean_squared_error: 0.4775\n",
      "Epoch 73/100\n",
      "481/481 [==============================] - 1s 3ms/step - loss: 0.2250 - root_mean_squared_error: 0.4586 - val_loss: 0.2411 - val_root_mean_squared_error: 0.4758\n",
      "Epoch 74/100\n",
      "481/481 [==============================] - 1s 3ms/step - loss: 0.2207 - root_mean_squared_error: 0.4540 - val_loss: 0.2386 - val_root_mean_squared_error: 0.4733\n",
      "Epoch 75/100\n",
      "481/481 [==============================] - 1s 3ms/step - loss: 0.2213 - root_mean_squared_error: 0.4547 - val_loss: 0.2365 - val_root_mean_squared_error: 0.4711\n",
      "Epoch 76/100\n",
      "481/481 [==============================] - 2s 3ms/step - loss: 0.2213 - root_mean_squared_error: 0.4547 - val_loss: 0.2345 - val_root_mean_squared_error: 0.4691\n",
      "Epoch 77/100\n",
      "481/481 [==============================] - 2s 4ms/step - loss: 0.2190 - root_mean_squared_error: 0.4523 - val_loss: 0.2517 - val_root_mean_squared_error: 0.4872\n",
      "Epoch 78/100\n",
      "481/481 [==============================] - 1s 3ms/step - loss: 0.2261 - root_mean_squared_error: 0.4600 - val_loss: 0.2387 - val_root_mean_squared_error: 0.4736\n",
      "Epoch 79/100\n",
      "481/481 [==============================] - 1s 3ms/step - loss: 0.2227 - root_mean_squared_error: 0.4564 - val_loss: 0.2385 - val_root_mean_squared_error: 0.4733\n",
      "Epoch 80/100\n",
      "481/481 [==============================] - 2s 4ms/step - loss: 0.2210 - root_mean_squared_error: 0.4545 - val_loss: 0.2359 - val_root_mean_squared_error: 0.4707\n",
      "Epoch 81/100\n",
      "481/481 [==============================] - 2s 4ms/step - loss: 0.2191 - root_mean_squared_error: 0.4525 - val_loss: 0.2452 - val_root_mean_squared_error: 0.4805\n",
      "Epoch 82/100\n",
      "481/481 [==============================] - 2s 3ms/step - loss: 0.2196 - root_mean_squared_error: 0.4531 - val_loss: 0.2415 - val_root_mean_squared_error: 0.4766\n",
      "Epoch 83/100\n",
      "481/481 [==============================] - 2s 3ms/step - loss: 0.2242 - root_mean_squared_error: 0.4581 - val_loss: 0.2450 - val_root_mean_squared_error: 0.4802\n",
      "Epoch 84/100\n",
      "481/481 [==============================] - 2s 3ms/step - loss: 0.2189 - root_mean_squared_error: 0.4523 - val_loss: 0.2322 - val_root_mean_squared_error: 0.4668\n",
      "Epoch 85/100\n",
      "481/481 [==============================] - 1s 3ms/step - loss: 0.2213 - root_mean_squared_error: 0.4549 - val_loss: 0.2480 - val_root_mean_squared_error: 0.4834\n",
      "Epoch 86/100\n",
      "481/481 [==============================] - 1s 3ms/step - loss: 0.2220 - root_mean_squared_error: 0.4557 - val_loss: 0.2344 - val_root_mean_squared_error: 0.4692\n",
      "Epoch 87/100\n",
      "481/481 [==============================] - 1s 3ms/step - loss: 0.2250 - root_mean_squared_error: 0.4589 - val_loss: 0.2485 - val_root_mean_squared_error: 0.4837\n",
      "Epoch 88/100\n",
      "481/481 [==============================] - 1s 3ms/step - loss: 0.2177 - root_mean_squared_error: 0.4508 - val_loss: 0.2421 - val_root_mean_squared_error: 0.4773\n",
      "Epoch 89/100\n",
      "481/481 [==============================] - 1s 3ms/step - loss: 0.2213 - root_mean_squared_error: 0.4549 - val_loss: 0.2413 - val_root_mean_squared_error: 0.4763\n",
      "Epoch 90/100\n",
      "481/481 [==============================] - 1s 3ms/step - loss: 0.2221 - root_mean_squared_error: 0.4558 - val_loss: 0.2627 - val_root_mean_squared_error: 0.4983\n",
      "Epoch 91/100\n",
      "481/481 [==============================] - 1s 3ms/step - loss: 0.2206 - root_mean_squared_error: 0.4542 - val_loss: 0.2427 - val_root_mean_squared_error: 0.4779\n",
      "Epoch 92/100\n",
      "481/481 [==============================] - 1s 3ms/step - loss: 0.2231 - root_mean_squared_error: 0.4570 - val_loss: 0.2399 - val_root_mean_squared_error: 0.4748\n",
      "Epoch 93/100\n",
      "481/481 [==============================] - 1s 3ms/step - loss: 0.2220 - root_mean_squared_error: 0.4556 - val_loss: 0.2381 - val_root_mean_squared_error: 0.4729\n",
      "Epoch 94/100\n",
      "481/481 [==============================] - 1s 3ms/step - loss: 0.2193 - root_mean_squared_error: 0.4526 - val_loss: 0.2441 - val_root_mean_squared_error: 0.4792\n",
      "Epoch 95/100\n"
     ]
    },
    {
     "name": "stdout",
     "output_type": "stream",
     "text": [
      "481/481 [==============================] - 1s 3ms/step - loss: 0.2201 - root_mean_squared_error: 0.4535 - val_loss: 0.2902 - val_root_mean_squared_error: 0.5252\n",
      "Epoch 96/100\n",
      "481/481 [==============================] - 1s 3ms/step - loss: 0.2199 - root_mean_squared_error: 0.4534 - val_loss: 0.2437 - val_root_mean_squared_error: 0.4790\n",
      "Epoch 97/100\n",
      "481/481 [==============================] - 1s 3ms/step - loss: 0.2203 - root_mean_squared_error: 0.4539 - val_loss: 0.2632 - val_root_mean_squared_error: 0.4989\n",
      "Epoch 98/100\n",
      "481/481 [==============================] - 1s 3ms/step - loss: 0.2206 - root_mean_squared_error: 0.4542 - val_loss: 0.3395 - val_root_mean_squared_error: 0.5702\n",
      "Epoch 99/100\n",
      "481/481 [==============================] - 1s 3ms/step - loss: 0.2502 - root_mean_squared_error: 0.4853 - val_loss: 0.2522 - val_root_mean_squared_error: 0.4873\n",
      "Epoch 100/100\n",
      "481/481 [==============================] - 1s 3ms/step - loss: 0.2231 - root_mean_squared_error: 0.4566 - val_loss: 0.2339 - val_root_mean_squared_error: 0.4684\n"
     ]
    }
   ],
   "source": [
    "history = model.fit(X_train, y_train, epochs = 100, batch_size = 64, validation_data = (X_val, y_val))"
   ]
  },
  {
   "cell_type": "code",
   "execution_count": 98,
   "id": "b3bea249",
   "metadata": {},
   "outputs": [],
   "source": [
    "### Predicted value\n",
    "\n",
    "y_pred_train = model.predict(X_train)\n",
    "y_pred_val = model.predict(X_val)\n",
    "y_pred_test = model.predict(X_test)"
   ]
  },
  {
   "cell_type": "code",
   "execution_count": 99,
   "id": "28000459",
   "metadata": {},
   "outputs": [
    {
     "name": "stdout",
     "output_type": "stream",
     "text": [
      "The train R-squared is 0.73143\n",
      "The val R-squared is 0.696051\n",
      "The test R-squared is 0.705863\n"
     ]
    }
   ],
   "source": [
    "from sklearn.metrics import r2_score\n",
    "\n",
    "print('The train R-squared is', round(r2_score(y_train, y_pred_train),6))\n",
    "print('The val R-squared is', round(r2_score(y_val, y_pred_val),6))\n",
    "print('The test R-squared is', round(r2_score(y_test, y_pred_test),6))"
   ]
  },
  {
   "cell_type": "code",
   "execution_count": 100,
   "id": "3fe23c8d",
   "metadata": {},
   "outputs": [
    {
     "name": "stdout",
     "output_type": "stream",
     "text": [
      "318/318 [==============================] - 0s 1ms/step - loss: 0.2211 - root_mean_squared_error: 0.4545\n",
      "loss on test is: 0.22108541429042816\n",
      "rmse on test is: 0.454505980014801\n"
     ]
    }
   ],
   "source": [
    "#### Checking the loss and rmse on the Test data\n",
    "loss, rmse = model.evaluate(X_test, y_test)\n",
    "\n",
    "print('loss on test is:', loss)\n",
    "print('rmse on test is:', rmse)"
   ]
  },
  {
   "cell_type": "code",
   "execution_count": 101,
   "id": "696fce9e",
   "metadata": {},
   "outputs": [
    {
     "data": {
      "text/html": [
       "<div>\n",
       "<style scoped>\n",
       "    .dataframe tbody tr th:only-of-type {\n",
       "        vertical-align: middle;\n",
       "    }\n",
       "\n",
       "    .dataframe tbody tr th {\n",
       "        vertical-align: top;\n",
       "    }\n",
       "\n",
       "    .dataframe thead th {\n",
       "        text-align: right;\n",
       "    }\n",
       "</style>\n",
       "<table border=\"1\" class=\"dataframe\">\n",
       "  <thead>\n",
       "    <tr style=\"text-align: right;\">\n",
       "      <th></th>\n",
       "      <th>loss</th>\n",
       "      <th>root_mean_squared_error</th>\n",
       "      <th>val_loss</th>\n",
       "      <th>val_root_mean_squared_error</th>\n",
       "      <th>epochs</th>\n",
       "    </tr>\n",
       "  </thead>\n",
       "  <tbody>\n",
       "    <tr>\n",
       "      <th>0</th>\n",
       "      <td>0.577420</td>\n",
       "      <td>0.730576</td>\n",
       "      <td>0.343026</td>\n",
       "      <td>0.550615</td>\n",
       "      <td>1</td>\n",
       "    </tr>\n",
       "    <tr>\n",
       "      <th>1</th>\n",
       "      <td>0.356066</td>\n",
       "      <td>0.563951</td>\n",
       "      <td>0.332599</td>\n",
       "      <td>0.543862</td>\n",
       "      <td>2</td>\n",
       "    </tr>\n",
       "    <tr>\n",
       "      <th>2</th>\n",
       "      <td>0.350233</td>\n",
       "      <td>0.560759</td>\n",
       "      <td>0.325470</td>\n",
       "      <td>0.538976</td>\n",
       "      <td>3</td>\n",
       "    </tr>\n",
       "    <tr>\n",
       "      <th>3</th>\n",
       "      <td>0.324648</td>\n",
       "      <td>0.538993</td>\n",
       "      <td>0.295601</td>\n",
       "      <td>0.512091</td>\n",
       "      <td>4</td>\n",
       "    </tr>\n",
       "    <tr>\n",
       "      <th>4</th>\n",
       "      <td>0.299673</td>\n",
       "      <td>0.516651</td>\n",
       "      <td>0.290799</td>\n",
       "      <td>0.508743</td>\n",
       "      <td>5</td>\n",
       "    </tr>\n",
       "  </tbody>\n",
       "</table>\n",
       "</div>"
      ],
      "text/plain": [
       "       loss  root_mean_squared_error  val_loss  val_root_mean_squared_error  \\\n",
       "0  0.577420                 0.730576  0.343026                     0.550615   \n",
       "1  0.356066                 0.563951  0.332599                     0.543862   \n",
       "2  0.350233                 0.560759  0.325470                     0.538976   \n",
       "3  0.324648                 0.538993  0.295601                     0.512091   \n",
       "4  0.299673                 0.516651  0.290799                     0.508743   \n",
       "\n",
       "  epochs  \n",
       "0      1  \n",
       "1      2  \n",
       "2      3  \n",
       "3      4  \n",
       "4      5  "
      ]
     },
     "metadata": {},
     "output_type": "display_data"
    }
   ],
   "source": [
    "df = pd.DataFrame(history.history)\n",
    "\n",
    "\n",
    "df['epochs'] = df.index + 1\n",
    "df['epochs'] = df['epochs'].apply(str)\n",
    "display(df.head())"
   ]
  },
  {
   "cell_type": "code",
   "execution_count": 102,
   "id": "b54701f8",
   "metadata": {},
   "outputs": [
    {
     "data": {
      "image/png": "[encoded data removed]",
      "text/plain": [
       "<Figure size 2160x720 with 2 Axes>"
      ]
     },
     "metadata": {
      "needs_background": "light"
     },
     "output_type": "display_data"
    }
   ],
   "source": [
    "### Plot the graphs\n",
    "fig, ax = plt.subplots(1,2, figsize = (30,10))\n",
    "ax[0].plot(df['epochs'], df['loss'], color = '#FF5A5F')\n",
    "ax[0].plot(df['epochs'], df['val_loss'], color = '#00A699')\n",
    "ax[0].legend(['train loss', 'validation loss'])\n",
    "ax[0].set(xlabel=\"Epoch number\", ylabel=\"mean squared error\")\n",
    "ax[0].set_title('MSE Vs Epoch')\n",
    "\n",
    "ax[1].plot(df['epochs'],df['root_mean_squared_error'],color = '#FF5A5F')\n",
    "ax[1].plot(df['epochs'], df['val_root_mean_squared_error'],color = '#00A699')\n",
    "ax[1].legend(['train rmse', 'validation rmse'])\n",
    "ax[1].set(xlabel=\"Epoch number\", ylabel=\"Root mean squared error\")\n",
    "ax[1].set_title('RMSE Vs Epoch')\n",
    "\n",
    "fig.suptitle('MSE and RMSE for Train and Validation sample with each epoch', fontsize = 15, fontweight = 'bold', y = 1.05)\n",
    "fig.tight_layout()\n",
    "plt.show()"
   ]
  },
  {
   "cell_type": "markdown",
   "id": "dbf2f659",
   "metadata": {},
   "source": [
    "#### 2B: Deep leaning model with BERT embedding (Excluding features from CNN model)"
   ]
  },
  {
   "cell_type": "code",
   "execution_count": 103,
   "id": "fb1a6f0e",
   "metadata": {},
   "outputs": [],
   "source": [
    "#### Run the model using all features including the ones created by CNN\n",
    "def final_df_BERT_without_CNN(input_df):\n",
    "    input_df['price1'] = np.where(input_df.price > 1570, 1570, input_df.price) ###Cap the price to handle extreme values\n",
    "    input_df['price1'] = np.where(input_df.price1 < 20, 20, input_df.price1)  ###Floor the price to handle extreme values\n",
    "    all_amenities = input_df['amenities1']\n",
    "    other_features = input_df.drop(columns = ['Unnamed: 0', 'Census population', 'id','neighbourhood_cleansed','latitude', 'longitude','host_since',\\\n",
    "              'amenities','amenities1','price','price1','image_id','avg',\\\n",
    "               'host_identity_verified','host_is_superhost','host_has_profile_pic','normalized_avg', 'interior', 'entire']) ##keeping normalized avg\n",
    "\n",
    "    dv1 = np.log(input_df['price1'])\n",
    "\n",
    "    idv1 = other_features.to_numpy()\n",
    "    dv_f = dv1.to_numpy()\n",
    "    #### Now lets convert the amenities to BERT embeddings\n",
    "    amenities_array = np.zeros((len(input_df),768))\n",
    "    cnt = 0\n",
    "    for i in all_amenities:\n",
    "        amenities_array[cnt] = bert_avg_embedding(i)\n",
    "        cnt = cnt +1\n",
    "    x_final = np.concatenate((idv1,amenities_array), axis = 1)\n",
    "    return x_final, dv_f"
   ]
  },
  {
   "cell_type": "code",
   "execution_count": 104,
   "id": "b4170f07",
   "metadata": {},
   "outputs": [],
   "source": [
    "X_train, y_train = final_df_BERT_without_CNN(train_df2)\n",
    "\n",
    "X_val, y_val = final_df_BERT_without_CNN(val_df2)\n",
    "\n",
    "\n",
    "X_test, y_test = final_df_BERT_without_CNN(test_df2)"
   ]
  },
  {
   "cell_type": "code",
   "execution_count": 105,
   "id": "c9c84ffd",
   "metadata": {},
   "outputs": [
    {
     "data": {
      "text/plain": [
       "(10172, 908)"
      ]
     },
     "execution_count": 105,
     "metadata": {},
     "output_type": "execute_result"
    }
   ],
   "source": [
    "X_test.shape"
   ]
  },
  {
   "cell_type": "code",
   "execution_count": 114,
   "id": "ef8cf3f0",
   "metadata": {},
   "outputs": [],
   "source": [
    "model = Sequential([\n",
    "    Dense(128, activation = 'relu', input_shape = (X_train.shape[1],), kernel_regularizer = tf.keras.regularizers.L2(0.0001)),\n",
    "    Dense(64, activation = 'relu', kernel_regularizer = tf.keras.regularizers.L2(0.0001)),\n",
    "    Dense(32, activation = 'relu', kernel_regularizer = tf.keras.regularizers.L2(0.0001)),\n",
    "    Dense(16, activation = 'relu', kernel_regularizer = tf.keras.regularizers.L2(0.0001)),\n",
    "    Dense(1, activation = 'linear', kernel_regularizer = tf.keras.regularizers.L2(0.0001))\n",
    "])"
   ]
  },
  {
   "cell_type": "code",
   "execution_count": 115,
   "id": "43d502ab",
   "metadata": {},
   "outputs": [],
   "source": [
    "model.compile(optimizer = 'adam',\n",
    "            loss = 'mse',\n",
    "             metrics = [tf.keras.metrics.RootMeanSquaredError()])"
   ]
  },
  {
   "cell_type": "code",
   "execution_count": 116,
   "id": "92c0300e",
   "metadata": {},
   "outputs": [
    {
     "name": "stdout",
     "output_type": "stream",
     "text": [
      "Epoch 1/100\n",
      "481/481 [==============================] - 2s 2ms/step - loss: 0.6465 - root_mean_squared_error: 0.7858 - val_loss: 0.3369 - val_root_mean_squared_error: 0.5571\n",
      "Epoch 2/100\n",
      "481/481 [==============================] - 1s 2ms/step - loss: 0.3432 - root_mean_squared_error: 0.5637 - val_loss: 0.3368 - val_root_mean_squared_error: 0.5588\n",
      "Epoch 3/100\n",
      "481/481 [==============================] - 1s 2ms/step - loss: 0.3358 - root_mean_squared_error: 0.5585 - val_loss: 0.3310 - val_root_mean_squared_error: 0.5547\n",
      "Epoch 4/100\n",
      "481/481 [==============================] - 1s 2ms/step - loss: 0.3085 - root_mean_squared_error: 0.5343 - val_loss: 0.2982 - val_root_mean_squared_error: 0.5249\n",
      "Epoch 5/100\n",
      "481/481 [==============================] - 1s 2ms/step - loss: 0.2891 - root_mean_squared_error: 0.5164 - val_loss: 0.3684 - val_root_mean_squared_error: 0.5883\n",
      "Epoch 6/100\n",
      "481/481 [==============================] - 1s 2ms/step - loss: 0.2759 - root_mean_squared_error: 0.5040 - val_loss: 0.2629 - val_root_mean_squared_error: 0.4914\n",
      "Epoch 7/100\n",
      "481/481 [==============================] - 1s 2ms/step - loss: 0.2629 - root_mean_squared_error: 0.4919 - val_loss: 0.3142 - val_root_mean_squared_error: 0.5419\n",
      "Epoch 8/100\n",
      "481/481 [==============================] - 1s 2ms/step - loss: 0.2621 - root_mean_squared_error: 0.4919 - val_loss: 0.2798 - val_root_mean_squared_error: 0.5100\n",
      "Epoch 9/100\n",
      "481/481 [==============================] - 1s 2ms/step - loss: 0.2591 - root_mean_squared_error: 0.4897 - val_loss: 0.2494 - val_root_mean_squared_error: 0.4801\n",
      "Epoch 10/100\n",
      "481/481 [==============================] - 1s 2ms/step - loss: 0.2563 - root_mean_squared_error: 0.4877 - val_loss: 0.2708 - val_root_mean_squared_error: 0.5027\n",
      "Epoch 11/100\n",
      "481/481 [==============================] - 1s 2ms/step - loss: 0.2524 - root_mean_squared_error: 0.4843 - val_loss: 0.2636 - val_root_mean_squared_error: 0.4960\n",
      "Epoch 12/100\n",
      "481/481 [==============================] - 1s 2ms/step - loss: 0.2482 - root_mean_squared_error: 0.4807 - val_loss: 0.3078 - val_root_mean_squared_error: 0.5394\n",
      "Epoch 13/100\n",
      "481/481 [==============================] - 1s 2ms/step - loss: 0.2446 - root_mean_squared_error: 0.4776 - val_loss: 0.2653 - val_root_mean_squared_error: 0.4991\n",
      "Epoch 14/100\n",
      "481/481 [==============================] - 1s 2ms/step - loss: 0.2533 - root_mean_squared_error: 0.4872 - val_loss: 0.2836 - val_root_mean_squared_error: 0.5176\n",
      "Epoch 15/100\n",
      "481/481 [==============================] - 1s 2ms/step - loss: 0.2457 - root_mean_squared_error: 0.4797 - val_loss: 0.2588 - val_root_mean_squared_error: 0.4935\n",
      "Epoch 16/100\n",
      "481/481 [==============================] - 1s 2ms/step - loss: 0.2397 - root_mean_squared_error: 0.4740 - val_loss: 0.2614 - val_root_mean_squared_error: 0.4965\n",
      "Epoch 17/100\n",
      "481/481 [==============================] - 1s 2ms/step - loss: 0.2411 - root_mean_squared_error: 0.4757 - val_loss: 0.2447 - val_root_mean_squared_error: 0.4796\n",
      "Epoch 18/100\n",
      "481/481 [==============================] - 1s 2ms/step - loss: 0.2437 - root_mean_squared_error: 0.4786 - val_loss: 0.2479 - val_root_mean_squared_error: 0.4829\n",
      "Epoch 19/100\n",
      "481/481 [==============================] - 1s 2ms/step - loss: 0.2355 - root_mean_squared_error: 0.4700 - val_loss: 0.2399 - val_root_mean_squared_error: 0.4748\n",
      "Epoch 20/100\n",
      "481/481 [==============================] - 1s 2ms/step - loss: 0.2358 - root_mean_squared_error: 0.4706 - val_loss: 0.2469 - val_root_mean_squared_error: 0.4824\n",
      "Epoch 21/100\n",
      "481/481 [==============================] - 1s 2ms/step - loss: 0.2378 - root_mean_squared_error: 0.4728 - val_loss: 0.2407 - val_root_mean_squared_error: 0.4759\n",
      "Epoch 22/100\n",
      "481/481 [==============================] - 1s 2ms/step - loss: 0.2339 - root_mean_squared_error: 0.4687 - val_loss: 0.2675 - val_root_mean_squared_error: 0.5034\n",
      "Epoch 23/100\n",
      "481/481 [==============================] - 1s 2ms/step - loss: 0.2321 - root_mean_squared_error: 0.4670 - val_loss: 0.2386 - val_root_mean_squared_error: 0.4740\n",
      "Epoch 24/100\n",
      "481/481 [==============================] - 1s 2ms/step - loss: 0.2305 - root_mean_squared_error: 0.4656 - val_loss: 0.2447 - val_root_mean_squared_error: 0.4807\n",
      "Epoch 25/100\n",
      "481/481 [==============================] - 1s 2ms/step - loss: 0.2329 - root_mean_squared_error: 0.4683 - val_loss: 0.2616 - val_root_mean_squared_error: 0.4979\n",
      "Epoch 26/100\n",
      "481/481 [==============================] - 1s 2ms/step - loss: 0.2305 - root_mean_squared_error: 0.4658 - val_loss: 0.2439 - val_root_mean_squared_error: 0.4800\n",
      "Epoch 27/100\n",
      "481/481 [==============================] - 1s 2ms/step - loss: 0.2374 - root_mean_squared_error: 0.4731 - val_loss: 0.2491 - val_root_mean_squared_error: 0.4852\n",
      "Epoch 28/100\n",
      "481/481 [==============================] - 1s 2ms/step - loss: 0.2332 - root_mean_squared_error: 0.4686 - val_loss: 0.2399 - val_root_mean_squared_error: 0.4757\n",
      "Epoch 29/100\n",
      "481/481 [==============================] - 1s 2ms/step - loss: 0.2293 - root_mean_squared_error: 0.4645 - val_loss: 0.2485 - val_root_mean_squared_error: 0.4848\n",
      "Epoch 30/100\n",
      "481/481 [==============================] - 1s 2ms/step - loss: 0.2305 - root_mean_squared_error: 0.4658 - val_loss: 0.2427 - val_root_mean_squared_error: 0.4788\n",
      "Epoch 31/100\n",
      "481/481 [==============================] - 1s 2ms/step - loss: 0.2304 - root_mean_squared_error: 0.4658 - val_loss: 0.2418 - val_root_mean_squared_error: 0.4777\n",
      "Epoch 32/100\n",
      "481/481 [==============================] - 1s 2ms/step - loss: 0.2285 - root_mean_squared_error: 0.4638 - val_loss: 0.2490 - val_root_mean_squared_error: 0.4854\n",
      "Epoch 33/100\n",
      "481/481 [==============================] - 1s 2ms/step - loss: 0.2313 - root_mean_squared_error: 0.4670 - val_loss: 0.2428 - val_root_mean_squared_error: 0.4791\n",
      "Epoch 34/100\n",
      "481/481 [==============================] - 1s 2ms/step - loss: 0.2275 - root_mean_squared_error: 0.4628 - val_loss: 0.2359 - val_root_mean_squared_error: 0.4718\n",
      "Epoch 35/100\n",
      "481/481 [==============================] - 1s 2ms/step - loss: 0.2281 - root_mean_squared_error: 0.4636 - val_loss: 0.2352 - val_root_mean_squared_error: 0.4712\n",
      "Epoch 36/100\n",
      "481/481 [==============================] - 1s 2ms/step - loss: 0.2305 - root_mean_squared_error: 0.4662 - val_loss: 0.2451 - val_root_mean_squared_error: 0.4816\n",
      "Epoch 37/100\n",
      "481/481 [==============================] - 1s 2ms/step - loss: 0.2285 - root_mean_squared_error: 0.4639 - val_loss: 0.2367 - val_root_mean_squared_error: 0.4727\n",
      "Epoch 38/100\n",
      "481/481 [==============================] - 1s 2ms/step - loss: 0.2270 - root_mean_squared_error: 0.4623 - val_loss: 0.2590 - val_root_mean_squared_error: 0.4957\n",
      "Epoch 39/100\n",
      "481/481 [==============================] - 1s 2ms/step - loss: 0.2285 - root_mean_squared_error: 0.4638 - val_loss: 0.2534 - val_root_mean_squared_error: 0.4900\n",
      "Epoch 40/100\n",
      "481/481 [==============================] - 1s 2ms/step - loss: 0.2282 - root_mean_squared_error: 0.4636 - val_loss: 0.2597 - val_root_mean_squared_error: 0.4964\n",
      "Epoch 41/100\n",
      "481/481 [==============================] - 1s 2ms/step - loss: 0.2278 - root_mean_squared_error: 0.4632 - val_loss: 0.2360 - val_root_mean_squared_error: 0.4721\n",
      "Epoch 42/100\n",
      "481/481 [==============================] - 1s 2ms/step - loss: 0.2263 - root_mean_squared_error: 0.4616 - val_loss: 0.2454 - val_root_mean_squared_error: 0.4819\n",
      "Epoch 43/100\n",
      "481/481 [==============================] - 1s 2ms/step - loss: 0.2259 - root_mean_squared_error: 0.4611 - val_loss: 0.2463 - val_root_mean_squared_error: 0.4828\n",
      "Epoch 44/100\n",
      "481/481 [==============================] - 1s 2ms/step - loss: 0.2256 - root_mean_squared_error: 0.4608 - val_loss: 0.2375 - val_root_mean_squared_error: 0.4737\n",
      "Epoch 45/100\n",
      "481/481 [==============================] - 1s 2ms/step - loss: 0.2266 - root_mean_squared_error: 0.4618 - val_loss: 0.3023 - val_root_mean_squared_error: 0.5376\n",
      "Epoch 46/100\n",
      "481/481 [==============================] - 1s 2ms/step - loss: 0.2255 - root_mean_squared_error: 0.4607 - val_loss: 0.3424 - val_root_mean_squared_error: 0.5738\n",
      "Epoch 47/100\n",
      "481/481 [==============================] - 1s 2ms/step - loss: 0.2254 - root_mean_squared_error: 0.4608 - val_loss: 0.2338 - val_root_mean_squared_error: 0.4697\n",
      "Epoch 48/100\n",
      "481/481 [==============================] - 1s 2ms/step - loss: 0.2264 - root_mean_squared_error: 0.4618 - val_loss: 0.2345 - val_root_mean_squared_error: 0.4706\n",
      "Epoch 49/100\n",
      "481/481 [==============================] - 1s 2ms/step - loss: 0.2246 - root_mean_squared_error: 0.4599 - val_loss: 0.2384 - val_root_mean_squared_error: 0.4747\n",
      "Epoch 50/100\n",
      "481/481 [==============================] - 1s 2ms/step - loss: 0.2243 - root_mean_squared_error: 0.4597 - val_loss: 0.2330 - val_root_mean_squared_error: 0.4690\n",
      "Epoch 51/100\n",
      "481/481 [==============================] - 1s 2ms/step - loss: 0.2233 - root_mean_squared_error: 0.4586 - val_loss: 0.2990 - val_root_mean_squared_error: 0.5348\n",
      "Epoch 52/100\n",
      "481/481 [==============================] - 1s 2ms/step - loss: 0.2249 - root_mean_squared_error: 0.4603 - val_loss: 0.2380 - val_root_mean_squared_error: 0.4743\n",
      "Epoch 53/100\n",
      "481/481 [==============================] - 1s 2ms/step - loss: 0.2254 - root_mean_squared_error: 0.4608 - val_loss: 0.2334 - val_root_mean_squared_error: 0.4695\n",
      "Epoch 54/100\n",
      "481/481 [==============================] - 1s 2ms/step - loss: 0.2229 - root_mean_squared_error: 0.4582 - val_loss: 0.2404 - val_root_mean_squared_error: 0.4769\n",
      "Epoch 55/100\n",
      "481/481 [==============================] - 1s 2ms/step - loss: 0.2220 - root_mean_squared_error: 0.4572 - val_loss: 0.2366 - val_root_mean_squared_error: 0.4729\n",
      "Epoch 56/100\n",
      "481/481 [==============================] - 1s 2ms/step - loss: 0.2220 - root_mean_squared_error: 0.4573 - val_loss: 0.2537 - val_root_mean_squared_error: 0.4907\n",
      "Epoch 57/100\n",
      "481/481 [==============================] - 1s 2ms/step - loss: 0.2226 - root_mean_squared_error: 0.4579 - val_loss: 0.2350 - val_root_mean_squared_error: 0.4712\n",
      "Epoch 58/100\n",
      "481/481 [==============================] - 1s 2ms/step - loss: 0.2207 - root_mean_squared_error: 0.4558 - val_loss: 0.2561 - val_root_mean_squared_error: 0.4932\n",
      "Epoch 59/100\n",
      "481/481 [==============================] - 1s 2ms/step - loss: 0.2276 - root_mean_squared_error: 0.4634 - val_loss: 0.2414 - val_root_mean_squared_error: 0.4780\n",
      "Epoch 60/100\n",
      "481/481 [==============================] - 1s 2ms/step - loss: 0.2273 - root_mean_squared_error: 0.4629 - val_loss: 0.2331 - val_root_mean_squared_error: 0.4691\n",
      "Epoch 61/100\n",
      "481/481 [==============================] - 1s 2ms/step - loss: 0.2208 - root_mean_squared_error: 0.4560 - val_loss: 0.2634 - val_root_mean_squared_error: 0.5006\n",
      "Epoch 62/100\n",
      "481/481 [==============================] - 1s 2ms/step - loss: 0.2219 - root_mean_squared_error: 0.4572 - val_loss: 0.2463 - val_root_mean_squared_error: 0.4832\n",
      "Epoch 63/100\n",
      "481/481 [==============================] - 1s 2ms/step - loss: 0.2226 - root_mean_squared_error: 0.4579 - val_loss: 0.2570 - val_root_mean_squared_error: 0.4941\n",
      "Epoch 64/100\n",
      "481/481 [==============================] - 1s 2ms/step - loss: 0.2196 - root_mean_squared_error: 0.4547 - val_loss: 0.2673 - val_root_mean_squared_error: 0.5045\n",
      "Epoch 65/100\n",
      "481/481 [==============================] - 1s 2ms/step - loss: 0.2222 - root_mean_squared_error: 0.4575 - val_loss: 0.2381 - val_root_mean_squared_error: 0.4746\n",
      "Epoch 66/100\n",
      "481/481 [==============================] - 1s 2ms/step - loss: 0.2225 - root_mean_squared_error: 0.4577 - val_loss: 0.2332 - val_root_mean_squared_error: 0.4693\n",
      "Epoch 67/100\n",
      "481/481 [==============================] - 1s 2ms/step - loss: 0.2227 - root_mean_squared_error: 0.4580 - val_loss: 0.2361 - val_root_mean_squared_error: 0.4724\n",
      "Epoch 68/100\n",
      "481/481 [==============================] - 1s 2ms/step - loss: 0.2193 - root_mean_squared_error: 0.4543 - val_loss: 0.2371 - val_root_mean_squared_error: 0.4735\n",
      "Epoch 69/100\n",
      "481/481 [==============================] - 1s 2ms/step - loss: 0.2231 - root_mean_squared_error: 0.4584 - val_loss: 0.2462 - val_root_mean_squared_error: 0.4830\n",
      "Epoch 70/100\n",
      "481/481 [==============================] - 1s 2ms/step - loss: 0.2209 - root_mean_squared_error: 0.4560 - val_loss: 0.2392 - val_root_mean_squared_error: 0.4756\n",
      "Epoch 71/100\n",
      "481/481 [==============================] - 1s 2ms/step - loss: 0.2199 - root_mean_squared_error: 0.4549 - val_loss: 0.2321 - val_root_mean_squared_error: 0.4681\n",
      "Epoch 72/100\n",
      "481/481 [==============================] - 1s 2ms/step - loss: 0.2233 - root_mean_squared_error: 0.4584 - val_loss: 0.2437 - val_root_mean_squared_error: 0.4803\n",
      "Epoch 73/100\n",
      "481/481 [==============================] - 1s 2ms/step - loss: 0.2188 - root_mean_squared_error: 0.4536 - val_loss: 0.2365 - val_root_mean_squared_error: 0.4728\n",
      "Epoch 74/100\n",
      "481/481 [==============================] - 1s 2ms/step - loss: 0.2195 - root_mean_squared_error: 0.4544 - val_loss: 0.2607 - val_root_mean_squared_error: 0.4977\n",
      "Epoch 75/100\n",
      "481/481 [==============================] - 1s 2ms/step - loss: 0.2211 - root_mean_squared_error: 0.4561 - val_loss: 0.2420 - val_root_mean_squared_error: 0.4785\n",
      "Epoch 76/100\n",
      "481/481 [==============================] - 1s 2ms/step - loss: 0.2166 - root_mean_squared_error: 0.4512 - val_loss: 0.2440 - val_root_mean_squared_error: 0.4807\n",
      "Epoch 77/100\n",
      "481/481 [==============================] - 1s 2ms/step - loss: 0.2209 - root_mean_squared_error: 0.4560 - val_loss: 0.2387 - val_root_mean_squared_error: 0.4751\n",
      "Epoch 78/100\n",
      "481/481 [==============================] - 1s 2ms/step - loss: 0.2214 - root_mean_squared_error: 0.4565 - val_loss: 0.2393 - val_root_mean_squared_error: 0.4756\n",
      "Epoch 79/100\n",
      "481/481 [==============================] - 1s 2ms/step - loss: 0.2188 - root_mean_squared_error: 0.4536 - val_loss: 0.2386 - val_root_mean_squared_error: 0.4749\n",
      "Epoch 80/100\n",
      "481/481 [==============================] - 1s 2ms/step - loss: 0.2190 - root_mean_squared_error: 0.4539 - val_loss: 0.2422 - val_root_mean_squared_error: 0.4788\n",
      "Epoch 81/100\n",
      "481/481 [==============================] - 1s 2ms/step - loss: 0.2233 - root_mean_squared_error: 0.4585 - val_loss: 0.2421 - val_root_mean_squared_error: 0.4784\n",
      "Epoch 82/100\n",
      "481/481 [==============================] - 1s 2ms/step - loss: 0.2199 - root_mean_squared_error: 0.4547 - val_loss: 0.2305 - val_root_mean_squared_error: 0.4662\n",
      "Epoch 83/100\n",
      "481/481 [==============================] - 1s 2ms/step - loss: 0.2184 - root_mean_squared_error: 0.4531 - val_loss: 0.2359 - val_root_mean_squared_error: 0.4721\n",
      "Epoch 84/100\n",
      "481/481 [==============================] - 1s 2ms/step - loss: 0.2194 - root_mean_squared_error: 0.4542 - val_loss: 0.2335 - val_root_mean_squared_error: 0.4695\n",
      "Epoch 85/100\n",
      "481/481 [==============================] - 1s 2ms/step - loss: 0.2201 - root_mean_squared_error: 0.4550 - val_loss: 0.2516 - val_root_mean_squared_error: 0.4882\n",
      "Epoch 86/100\n",
      "481/481 [==============================] - 1s 2ms/step - loss: 0.2171 - root_mean_squared_error: 0.4515 - val_loss: 0.2441 - val_root_mean_squared_error: 0.4805\n",
      "Epoch 87/100\n",
      "481/481 [==============================] - 1s 2ms/step - loss: 0.2217 - root_mean_squared_error: 0.4566 - val_loss: 0.2429 - val_root_mean_squared_error: 0.4791\n",
      "Epoch 88/100\n",
      "481/481 [==============================] - 1s 2ms/step - loss: 0.2226 - root_mean_squared_error: 0.4575 - val_loss: 0.2480 - val_root_mean_squared_error: 0.4844\n",
      "Epoch 89/100\n",
      "481/481 [==============================] - 1s 2ms/step - loss: 0.2206 - root_mean_squared_error: 0.4552 - val_loss: 0.2626 - val_root_mean_squared_error: 0.4992\n",
      "Epoch 90/100\n",
      "481/481 [==============================] - 1s 2ms/step - loss: 0.2166 - root_mean_squared_error: 0.4508 - val_loss: 0.2625 - val_root_mean_squared_error: 0.4992\n",
      "Epoch 91/100\n",
      "481/481 [==============================] - 1s 2ms/step - loss: 0.2201 - root_mean_squared_error: 0.4548 - val_loss: 0.2350 - val_root_mean_squared_error: 0.4708\n",
      "Epoch 92/100\n",
      "481/481 [==============================] - 1s 2ms/step - loss: 0.2166 - root_mean_squared_error: 0.4509 - val_loss: 0.2531 - val_root_mean_squared_error: 0.4897\n",
      "Epoch 93/100\n",
      "481/481 [==============================] - 1s 2ms/step - loss: 0.2171 - root_mean_squared_error: 0.4514 - val_loss: 0.2461 - val_root_mean_squared_error: 0.4825\n",
      "Epoch 94/100\n",
      "481/481 [==============================] - 1s 2ms/step - loss: 0.2237 - root_mean_squared_error: 0.4586 - val_loss: 0.2362 - val_root_mean_squared_error: 0.4720\n",
      "Epoch 95/100\n"
     ]
    },
    {
     "name": "stdout",
     "output_type": "stream",
     "text": [
      "481/481 [==============================] - 1s 2ms/step - loss: 0.2187 - root_mean_squared_error: 0.4531 - val_loss: 0.2422 - val_root_mean_squared_error: 0.4785\n",
      "Epoch 96/100\n",
      "481/481 [==============================] - 1s 2ms/step - loss: 0.2188 - root_mean_squared_error: 0.4532 - val_loss: 0.2326 - val_root_mean_squared_error: 0.4682\n",
      "Epoch 97/100\n",
      "481/481 [==============================] - 1s 2ms/step - loss: 0.2194 - root_mean_squared_error: 0.4540 - val_loss: 0.2398 - val_root_mean_squared_error: 0.4758\n",
      "Epoch 98/100\n",
      "481/481 [==============================] - 1s 2ms/step - loss: 0.2162 - root_mean_squared_error: 0.4503 - val_loss: 0.2434 - val_root_mean_squared_error: 0.4797\n",
      "Epoch 99/100\n",
      "481/481 [==============================] - 1s 2ms/step - loss: 0.2197 - root_mean_squared_error: 0.4543 - val_loss: 0.2310 - val_root_mean_squared_error: 0.4665\n",
      "Epoch 100/100\n",
      "481/481 [==============================] - 1s 2ms/step - loss: 0.2178 - root_mean_squared_error: 0.4521 - val_loss: 0.2512 - val_root_mean_squared_error: 0.4876\n"
     ]
    }
   ],
   "source": [
    "history = model.fit(X_train, y_train, epochs = 100, batch_size = 64, validation_data = (X_val, y_val))"
   ]
  },
  {
   "cell_type": "code",
   "execution_count": 117,
   "id": "d302dd74",
   "metadata": {},
   "outputs": [],
   "source": [
    "### Predicted value\n",
    "\n",
    "y_pred_train = model.predict(X_train)\n",
    "y_pred_val = model.predict(X_val)\n",
    "y_pred_test = model.predict(X_test)"
   ]
  },
  {
   "cell_type": "code",
   "execution_count": 118,
   "id": "d2b3e5cd",
   "metadata": {},
   "outputs": [
    {
     "name": "stdout",
     "output_type": "stream",
     "text": [
      "The train R-squared is 0.705053\n",
      "The val R-squared is 0.670578\n",
      "The test R-squared is 0.681306\n"
     ]
    }
   ],
   "source": [
    "from sklearn.metrics import r2_score\n",
    "\n",
    "print('The train R-squared is', round(r2_score(y_train, y_pred_train),6))\n",
    "print('The val R-squared is', round(r2_score(y_val, y_pred_val),6))\n",
    "print('The test R-squared is', round(r2_score(y_test, y_pred_test),6))"
   ]
  },
  {
   "cell_type": "code",
   "execution_count": 119,
   "id": "6907977b",
   "metadata": {},
   "outputs": [
    {
     "name": "stdout",
     "output_type": "stream",
     "text": [
      "318/318 [==============================] - 0s 995us/step - loss: 0.2372 - root_mean_squared_error: 0.4731\n",
      "loss on test is: 0.23724360764026642\n",
      "rmse on test is: 0.47309842705726624\n"
     ]
    }
   ],
   "source": [
    "#### Checking the loss and rmse on the Test data\n",
    "loss, rmse = model.evaluate(X_test, y_test)\n",
    "\n",
    "print('loss on test is:', loss)\n",
    "print('rmse on test is:', rmse)"
   ]
  },
  {
   "cell_type": "code",
   "execution_count": 121,
   "id": "c090f7d4",
   "metadata": {},
   "outputs": [
    {
     "data": {
      "text/html": [
       "<div>\n",
       "<style scoped>\n",
       "    .dataframe tbody tr th:only-of-type {\n",
       "        vertical-align: middle;\n",
       "    }\n",
       "\n",
       "    .dataframe tbody tr th {\n",
       "        vertical-align: top;\n",
       "    }\n",
       "\n",
       "    .dataframe thead th {\n",
       "        text-align: right;\n",
       "    }\n",
       "</style>\n",
       "<table border=\"1\" class=\"dataframe\">\n",
       "  <thead>\n",
       "    <tr style=\"text-align: right;\">\n",
       "      <th></th>\n",
       "      <th>loss</th>\n",
       "      <th>root_mean_squared_error</th>\n",
       "      <th>val_loss</th>\n",
       "      <th>val_root_mean_squared_error</th>\n",
       "      <th>epochs</th>\n",
       "    </tr>\n",
       "  </thead>\n",
       "  <tbody>\n",
       "    <tr>\n",
       "      <th>0</th>\n",
       "      <td>0.646482</td>\n",
       "      <td>0.785827</td>\n",
       "      <td>0.336947</td>\n",
       "      <td>0.557137</td>\n",
       "      <td>1</td>\n",
       "    </tr>\n",
       "    <tr>\n",
       "      <th>1</th>\n",
       "      <td>0.343243</td>\n",
       "      <td>0.563714</td>\n",
       "      <td>0.336795</td>\n",
       "      <td>0.558824</td>\n",
       "      <td>2</td>\n",
       "    </tr>\n",
       "    <tr>\n",
       "      <th>2</th>\n",
       "      <td>0.335815</td>\n",
       "      <td>0.558484</td>\n",
       "      <td>0.330987</td>\n",
       "      <td>0.554682</td>\n",
       "      <td>3</td>\n",
       "    </tr>\n",
       "    <tr>\n",
       "      <th>3</th>\n",
       "      <td>0.308452</td>\n",
       "      <td>0.534256</td>\n",
       "      <td>0.298237</td>\n",
       "      <td>0.524909</td>\n",
       "      <td>4</td>\n",
       "    </tr>\n",
       "    <tr>\n",
       "      <th>4</th>\n",
       "      <td>0.289113</td>\n",
       "      <td>0.516420</td>\n",
       "      <td>0.368352</td>\n",
       "      <td>0.588299</td>\n",
       "      <td>5</td>\n",
       "    </tr>\n",
       "    <tr>\n",
       "      <th>...</th>\n",
       "      <td>...</td>\n",
       "      <td>...</td>\n",
       "      <td>...</td>\n",
       "      <td>...</td>\n",
       "      <td>...</td>\n",
       "    </tr>\n",
       "    <tr>\n",
       "      <th>95</th>\n",
       "      <td>0.218753</td>\n",
       "      <td>0.453218</td>\n",
       "      <td>0.232604</td>\n",
       "      <td>0.468237</td>\n",
       "      <td>96</td>\n",
       "    </tr>\n",
       "    <tr>\n",
       "      <th>96</th>\n",
       "      <td>0.219434</td>\n",
       "      <td>0.453961</td>\n",
       "      <td>0.239769</td>\n",
       "      <td>0.475787</td>\n",
       "      <td>97</td>\n",
       "    </tr>\n",
       "    <tr>\n",
       "      <th>97</th>\n",
       "      <td>0.216209</td>\n",
       "      <td>0.450347</td>\n",
       "      <td>0.243447</td>\n",
       "      <td>0.479683</td>\n",
       "      <td>98</td>\n",
       "    </tr>\n",
       "    <tr>\n",
       "      <th>98</th>\n",
       "      <td>0.219722</td>\n",
       "      <td>0.454261</td>\n",
       "      <td>0.231006</td>\n",
       "      <td>0.466467</td>\n",
       "      <td>99</td>\n",
       "    </tr>\n",
       "    <tr>\n",
       "      <th>99</th>\n",
       "      <td>0.217775</td>\n",
       "      <td>0.452119</td>\n",
       "      <td>0.251168</td>\n",
       "      <td>0.487592</td>\n",
       "      <td>100</td>\n",
       "    </tr>\n",
       "  </tbody>\n",
       "</table>\n",
       "<p>100 rows × 5 columns</p>\n",
       "</div>"
      ],
      "text/plain": [
       "        loss  root_mean_squared_error  val_loss  val_root_mean_squared_error  \\\n",
       "0   0.646482                 0.785827  0.336947                     0.557137   \n",
       "1   0.343243                 0.563714  0.336795                     0.558824   \n",
       "2   0.335815                 0.558484  0.330987                     0.554682   \n",
       "3   0.308452                 0.534256  0.298237                     0.524909   \n",
       "4   0.289113                 0.516420  0.368352                     0.588299   \n",
       "..       ...                      ...       ...                          ...   \n",
       "95  0.218753                 0.453218  0.232604                     0.468237   \n",
       "96  0.219434                 0.453961  0.239769                     0.475787   \n",
       "97  0.216209                 0.450347  0.243447                     0.479683   \n",
       "98  0.219722                 0.454261  0.231006                     0.466467   \n",
       "99  0.217775                 0.452119  0.251168                     0.487592   \n",
       "\n",
       "   epochs  \n",
       "0       1  \n",
       "1       2  \n",
       "2       3  \n",
       "3       4  \n",
       "4       5  \n",
       "..    ...  \n",
       "95     96  \n",
       "96     97  \n",
       "97     98  \n",
       "98     99  \n",
       "99    100  \n",
       "\n",
       "[100 rows x 5 columns]"
      ]
     },
     "metadata": {},
     "output_type": "display_data"
    }
   ],
   "source": [
    "df = pd.DataFrame(history.history)\n",
    "\n",
    "\n",
    "df['epochs'] = df.index + 1\n",
    "df['epochs'] = df['epochs'].apply(str)\n",
    "display(df)"
   ]
  },
  {
   "cell_type": "code",
   "execution_count": 122,
   "id": "bb54c3c9",
   "metadata": {},
   "outputs": [
    {
     "data": {
      "image/png": "[encoded data removed]",
      "text/plain": [
       "<Figure size 2160x720 with 2 Axes>"
      ]
     },
     "metadata": {
      "needs_background": "light"
     },
     "output_type": "display_data"
    }
   ],
   "source": [
    "### Plot the graphs\n",
    "fig, ax = plt.subplots(1,2, figsize = (30,10))\n",
    "ax[0].plot(df['epochs'], df['loss'], color = '#FF5A5F')\n",
    "ax[0].plot(df['epochs'], df['val_loss'], color = '#00A699')\n",
    "ax[0].legend(['train loss', 'validation loss'])\n",
    "ax[0].set(xlabel=\"Epoch number\", ylabel=\"mean squared error\")\n",
    "ax[0].set_title('MSE Vs Epoch')\n",
    "\n",
    "ax[1].plot(df['epochs'],df['root_mean_squared_error'],color = '#FF5A5F')\n",
    "ax[1].plot(df['epochs'], df['val_root_mean_squared_error'],color = '#00A699')\n",
    "ax[1].legend(['train rmse', 'validation rmse'])\n",
    "ax[1].set(xlabel=\"Epoch number\", ylabel=\"Root mean squared error\")\n",
    "ax[1].set_title('RMSE Vs Epoch')\n",
    "\n",
    "fig.suptitle('MSE and RMSE for Train and Validation sample with each epoch', fontsize = 15, fontweight = 'bold', y = 1.05)\n",
    "fig.tight_layout()\n",
    "plt.show()"
   ]
  },
  {
   "cell_type": "code",
   "execution_count": null,
   "id": "166fdc1f",
   "metadata": {},
   "outputs": [],
   "source": []
  },
  {
   "cell_type": "code",
   "execution_count": null,
   "id": "176674a9",
   "metadata": {},
   "outputs": [],
   "source": []
  }
 ],
 "metadata": {
  "kernelspec": {
   "display_name": "Python 3 (ipykernel)",
   "language": "python",
   "name": "python3"
  },
  "language_info": {
   "codemirror_mode": {
    "name": "ipython",
    "version": 3
   },
   "file_extension": ".py",
   "mimetype": "text/x-python",
   "name": "python",
   "nbconvert_exporter": "python",
   "pygments_lexer": "ipython3",
   "version": "3.10.0"
  }
 },
 "nbformat": 4,
 "nbformat_minor": 5
}
