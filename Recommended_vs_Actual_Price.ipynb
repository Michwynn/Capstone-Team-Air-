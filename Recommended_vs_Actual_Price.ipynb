{
  "nbformat": 4,
  "nbformat_minor": 0,
  "metadata": {
    "colab": {
      "provenance": [],
      "authorship_tag": "ABX9TyNISzhLwalEysry1ymBTrFA",
      "include_colab_link": true
    },
    "kernelspec": {
      "name": "python3",
      "display_name": "Python 3"
    },
    "language_info": {
      "name": "python"
    }
  },
  "cells": [
    {
      "cell_type": "markdown",
      "metadata": {
        "id": "view-in-github",
        "colab_type": "text"
      },
      "source": [
        "<a href=\"https://colab.research.google.com/github/Michwynn/Capstone-Team-Air-/blob/Data-Cleaning/Recommended_vs_Actual_Price.ipynb\" target=\"_parent\"><img src=\"https://colab.research.google.com/assets/colab-badge.svg\" alt=\"Open In Colab\"/></a>"
      ]
    },
    {
      "cell_type": "code",
      "execution_count": 2,
      "metadata": {
        "colab": {
          "base_uri": "https://localhost:8080/"
        },
        "id": "0_xxN4FE85ai",
        "outputId": "975c5cff-0929-4a17-8d5c-e726ef49368f"
      },
      "outputs": [
        {
          "output_type": "stream",
          "name": "stdout",
          "text": [
            "Drive already mounted at /content/drive; to attempt to forcibly remount, call drive.mount(\"/content/drive\", force_remount=True).\n",
            "/content/drive/My Drive/Capstone\n"
          ]
        }
      ],
      "source": [
        "import pandas as pd\n",
        "import numpy as np \n",
        "import matplotlib.pyplot as plt\n",
        "import seaborn as sns\n",
        "import warnings # supress warnings\n",
        "warnings.filterwarnings('ignore')\n",
        "\n",
        "from google.colab import drive\n",
        "drive.mount('/content/drive')\n",
        "%cd /content/drive/My Drive/Capstone\n",
        "\n",
        "pd.set_option('display.max_columns', None)"
      ]
    },
    {
      "cell_type": "markdown",
      "source": [
        "**Read Calendar datasets**"
      ],
      "metadata": {
        "id": "kakaf4nk9CN4"
      }
    },
    {
      "cell_type": "code",
      "source": [
        "df = pd.read_csv('assets/raw_assets/calendar.csv')\n",
        "\n",
        "# cleaning price cols\n",
        "for col in ['price', 'adjusted_price']:\n",
        "  df[col] = df[col].str.replace('$', '') \n",
        "  df[col] = df[col].str.replace(',', '') \n",
        "  df[col] = df[col].astype(float)"
      ],
      "metadata": {
        "id": "l-Bw73XI89j4"
      },
      "execution_count": 3,
      "outputs": []
    },
    {
      "cell_type": "code",
      "source": [
        "# group by listing_id and then get the mean of actual vs recommended prices across time\n",
        "df = df.groupby(['listing_id'])['price', 'adjusted_price'].mean().reset_index()\n",
        "\n",
        "# we can try with median prices too, correlation is almost perfect (=1)\n",
        "#df = df.groupby(['listing_id'])['price', 'adjusted_price'].mean().reset_index()"
      ],
      "metadata": {
        "id": "Ww1iMn1vAcQ_"
      },
      "execution_count": 27,
      "outputs": []
    },
    {
      "cell_type": "markdown",
      "source": [
        "**Find the correlation between what prices were actually rented vs recommended by airbnb smart pricing tool**"
      ],
      "metadata": {
        "id": "E1dgMlkVDmJT"
      }
    },
    {
      "cell_type": "code",
      "source": [
        "# plot correlation matrix\n",
        "corr = df.drop('listing_id', axis=1).corr()\n",
        "corr.style.background_gradient(cmap='YlOrRd')"
      ],
      "metadata": {
        "colab": {
          "base_uri": "https://localhost:8080/",
          "height": 112
        },
        "id": "UScK5ReD9-JD",
        "outputId": "60873fe3-b41e-4222-8dfc-d29ce9138824"
      },
      "execution_count": 28,
      "outputs": [
        {
          "output_type": "execute_result",
          "data": {
            "text/plain": [
              "<pandas.io.formats.style.Styler at 0x7f64e30354c0>"
            ],
            "text/html": [
              "<style type=\"text/css\">\n",
              "#T_f6511_row0_col0, #T_f6511_row1_col1 {\n",
              "  background-color: #800026;\n",
              "  color: #f1f1f1;\n",
              "}\n",
              "#T_f6511_row0_col1, #T_f6511_row1_col0 {\n",
              "  background-color: #ffffcc;\n",
              "  color: #000000;\n",
              "}\n",
              "</style>\n",
              "<table id=\"T_f6511\" class=\"dataframe\">\n",
              "  <thead>\n",
              "    <tr>\n",
              "      <th class=\"blank level0\" >&nbsp;</th>\n",
              "      <th id=\"T_f6511_level0_col0\" class=\"col_heading level0 col0\" >price</th>\n",
              "      <th id=\"T_f6511_level0_col1\" class=\"col_heading level0 col1\" >adjusted_price</th>\n",
              "    </tr>\n",
              "  </thead>\n",
              "  <tbody>\n",
              "    <tr>\n",
              "      <th id=\"T_f6511_level0_row0\" class=\"row_heading level0 row0\" >price</th>\n",
              "      <td id=\"T_f6511_row0_col0\" class=\"data row0 col0\" >1.000000</td>\n",
              "      <td id=\"T_f6511_row0_col1\" class=\"data row0 col1\" >0.999897</td>\n",
              "    </tr>\n",
              "    <tr>\n",
              "      <th id=\"T_f6511_level0_row1\" class=\"row_heading level0 row1\" >adjusted_price</th>\n",
              "      <td id=\"T_f6511_row1_col0\" class=\"data row1 col0\" >0.999897</td>\n",
              "      <td id=\"T_f6511_row1_col1\" class=\"data row1 col1\" >1.000000</td>\n",
              "    </tr>\n",
              "  </tbody>\n",
              "</table>\n"
            ]
          },
          "metadata": {},
          "execution_count": 28
        }
      ]
    },
    {
      "cell_type": "markdown",
      "source": [
        "**Scatterplot**"
      ],
      "metadata": {
        "id": "y0D0Id8mDtKm"
      }
    },
    {
      "cell_type": "code",
      "source": [
        "plt.figure(figsize=(5,3))\n",
        "sns.scatterplot(data=df, x=\"price\", y=\"adjusted_price\", color = '#FF5A5F').set_title('Airbnb Prices vs Recommended Prices')"
      ],
      "metadata": {
        "colab": {
          "base_uri": "https://localhost:8080/",
          "height": 258
        },
        "id": "sAOan07M-Tlg",
        "outputId": "afc4a74d-708a-4337-aacd-d49e73a8cc09"
      },
      "execution_count": 29,
      "outputs": [
        {
          "output_type": "execute_result",
          "data": {
            "text/plain": [
              "Text(0.5, 1.0, 'Airbnb Prices vs Recommended Prices')"
            ]
          },
          "metadata": {},
          "execution_count": 29
        },
        {
          "output_type": "display_data",
          "data": {
            "text/plain": [
              "<Figure size 360x216 with 1 Axes>"
            ],
            "image/png": "[encoded data removed]"
          },
          "metadata": {
            "needs_background": "light"
          }
        }
      ]
    },
    {
      "cell_type": "markdown",
      "source": [
        "**Conclusion:**\n",
        "\n",
        "Since hosts are mostly \"well-behaved\", meaning they actually follow or trust the airbnb smart pricing tool, we will take the target variable as the actual prices that were rented out. Hence, any poor fit of a model to predict price cannot be attributed to random pricing behavioural of hosts. This holds true for both mean and median prices across time for each listing_id."
      ],
      "metadata": {
        "id": "BYW5QivQEQHe"
      }
    }
  ]
}